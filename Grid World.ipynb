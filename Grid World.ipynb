{
 "cells": [
  {
   "cell_type": "markdown",
   "metadata": {},
   "source": [
    "# Project 3: Robot Guidance"
   ]
  },
  {
   "cell_type": "code",
   "execution_count": 1,
   "metadata": {},
   "outputs": [],
   "source": [
    "import numpy as np\n",
    "import random\n",
    "from tqdm import tqdm"
   ]
  },
  {
   "cell_type": "markdown",
   "metadata": {},
   "source": [
    "### Utils"
   ]
  },
  {
   "cell_type": "code",
   "execution_count": 2,
   "metadata": {},
   "outputs": [],
   "source": [
    "def manhattan_distance(point1, point2):\n",
    "    x1, y1 = point1\n",
    "    x2, y2 = point2\n",
    "    return abs(x1 - x2) + abs(y1 - y2)"
   ]
  },
  {
   "cell_type": "markdown",
   "metadata": {},
   "source": [
    "## Environment"
   ]
  },
  {
   "cell_type": "code",
   "execution_count": 3,
   "metadata": {},
   "outputs": [],
   "source": [
    "class Ship_Environment:\n",
    "    # 0 empty\n",
    "    # 1 wall/blocked\n",
    "    # 2 bot\n",
    "    # 3 crew\n",
    "    # 4 alien\n",
    "    # 5 teleport\n",
    "\n",
    "    def __init__(self, size=11, has_alien=False):\n",
    "        self.has_alien = has_alien\n",
    "        self.size = size\n",
    "        self.ship_template = self.create_ship()\n",
    "        self.teleport = (5,5)\n",
    "        self.ship = None\n",
    "        self.crew = None\n",
    "        self.alien = None\n",
    "        self.bot = None\n",
    "        self.reset()\n",
    "\n",
    "    def import_ship(self, filename):\n",
    "        ship = np.load(filename)\n",
    "        self.has_alien = np.any(ship == 4)\n",
    "        self.size = ship.shape[0]\n",
    "        self.ship = ship\n",
    "        crew_idx = np.where(ship == 3)\n",
    "        crew_idx_0, crew_idx_1 = int(crew_idx[0]), int(crew_idx[1])\n",
    "        self.crew = (crew_idx_0, crew_idx_1)\n",
    "        self.alien = None\n",
    "        if self.has_alien:\n",
    "            alien_idx = np.where(ship == 4)\n",
    "            alien_idx_0, alien_idx_1 = int(alien_idx[0]), int(alien_idx[1])\n",
    "            self.alien = (alien_idx_0, alien_idx_1)\n",
    "        bot_idx = np.where(ship == 2)\n",
    "        bot_idx_0, bot_idx_1 = int(bot_idx[0]), int(bot_idx[1])\n",
    "        self.bot = (bot_idx_0, bot_idx_1)\n",
    "    \n",
    "    def export_ship(self, filename):\n",
    "        np.save(filename, self.ship)\n",
    "\n",
    "    def create_ship(self):\n",
    "        ship = np.zeros((self.size, self.size), dtype=np.int64)\n",
    "        ship[4, 4] = ship[4, 6] = ship[6, 4] = ship[6, 6] = 1\n",
    "        ship[5, 5] = 5\n",
    "        return ship\n",
    "    \n",
    "    def get_cardinals(self, point):\n",
    "        cardinals = [point]\n",
    "        for direction in [(0,1), (0,-1), (1,0), (-1,0)]:\n",
    "            x, y = point[0] + direction[0], point[1] + direction[1]\n",
    "            if 0 <= x < self.size and 0 <= y < self.size:\n",
    "                cardinals.append((x,y))\n",
    "        return cardinals\n",
    "    \n",
    "    def get_available(self, point):\n",
    "        cardinals = self.get_cardinals(point)\n",
    "        available = []\n",
    "        for x,y in cardinals:\n",
    "            if (self.ship[x][y] == 0 or self.ship[x][y] == 5 or (x,y) == point) and (x,y) != self.bot:\n",
    "                available.append((x,y))\n",
    "        return available\n",
    "    \n",
    "    def randomize_characters(self):\n",
    "        # reset to 0\n",
    "        self.ship[self.bot] = 0\n",
    "        self.ship[self.crew] = 0\n",
    "        if self.has_alien:\n",
    "            self.ship[self.alien] = 0\n",
    "\n",
    "        # get available\n",
    "        available = [(x, y) for x in range(11) for y in range(11) if not self.ship[(x, y)]]\n",
    "\n",
    "        # randomly sample crew\n",
    "        self.crew = available[np.random.choice(len(available), size=1, replace=False)[0]]\n",
    "        \n",
    "        # remove any cells adjacent so bot cannot spawn there\n",
    "        crew_adj = [self.crew]\n",
    "        for direction in [(0,1), (0,-1), (1,0), (-1,0)]:\n",
    "            x, y = self.crew[0] + direction[0], self.crew[1] + direction[1]\n",
    "            crew_adj.append((x,y))\n",
    "        available = [x for x in available if x not in crew_adj]\n",
    "\n",
    "        # if ship has alien, randomly sample alien and remove adjacent cells\n",
    "        if self.has_alien:\n",
    "            self.alien = available[np.random.choice(len(available), size=1, replace=False)[0]]\n",
    "            alien_adj = [self.alien]\n",
    "            for direction in [(0,1), (0,-1), (1,0), (-1,0)]:\n",
    "                x, y = self.alien[0] + direction[0], self.alien[1] + direction[1]\n",
    "                alien_adj.append((x,y))\n",
    "            available = [x for x in available if x not in alien_adj]\n",
    "\n",
    "        # randomly sample bot location\n",
    "        self.bot = available[np.random.choice(len(available), size=1, replace=False)[0]]\n",
    "        available.remove(self.bot)\n",
    "\n",
    "        self.update_ship()\n",
    "        \n",
    "    \n",
    "    def reset(self):\n",
    "        # unchangeable cells\n",
    "        restricted = {(4, 4), (4, 6), (6, 4), (6, 6), (5, 5), (5, 4), (5, 6), (4, 5), (6, 5)}\n",
    "\n",
    "        # list of coordinates for random sampling\n",
    "        available = [(x, y) for x in range(11) for y in range(11) if (x, y) not in restricted]\n",
    "\n",
    "        # randomly sample walls\n",
    "        blocked_idx = np.random.choice(len(available), size=10, replace=False)\n",
    "        blocked = [available[i] for i in blocked_idx]\n",
    "        available = [x for x in available if x not in blocked]\n",
    "\n",
    "        # randomly sample crew\n",
    "        self.crew = available[np.random.choice(len(available), size=1, replace=False)[0]]\n",
    "\n",
    "        # remove any cells adjacent so bot cannot spawn there\n",
    "        crew_adj = [self.crew]\n",
    "        for direction in [(0,1), (0,-1), (1,0), (-1,0)]:\n",
    "            x, y = self.crew[0] + direction[0], self.crew[1] + direction[1]\n",
    "            crew_adj.append((x,y))\n",
    "        available = [x for x in available if x not in crew_adj]\n",
    "\n",
    "        # if ship has alien, randomly sample alien and remove adjacent cells\n",
    "        if self.has_alien:\n",
    "            self.alien = available[np.random.choice(len(available), size=1, replace=False)[0]]\n",
    "            alien_adj = [self.alien]\n",
    "            for direction in [(0,1), (0,-1), (1,0), (-1,0)]:\n",
    "                x, y = self.alien[0] + direction[0], self.alien[1] + direction[1]\n",
    "                alien_adj.append((x,y))\n",
    "            available = [x for x in available if x not in alien_adj]\n",
    "        \n",
    "        # randomly sample bot location\n",
    "        self.bot = available[np.random.choice(len(available), size=1, replace=False)[0]]\n",
    "        available.remove(self.bot)\n",
    "\n",
    "        self.ship = self.ship_template.copy()\n",
    "        for cell in blocked:\n",
    "            self.ship[cell] = 1\n",
    "\n",
    "        self.update_ship()\n",
    "\n",
    "    # Directions\n",
    "    # \n",
    "    # 1  2  3\n",
    "    # 4  5  6\n",
    "    # 7  8  9\n",
    "    # \n",
    "    def move_bot(self, action):\n",
    "        if action == 1:\n",
    "            temp = (max(self.bot[0]-1, 0), max(self.bot[1]-1, 0))\n",
    "        elif action == 2:\n",
    "            temp = (max(self.bot[0]-1, 0), self.bot[1])\n",
    "        elif action == 3:\n",
    "            temp = (max(self.bot[0]-1, 0), min(self.bot[1]+1, self.size-1))\n",
    "        elif action == 4:\n",
    "            temp = (self.bot[0], max(self.bot[1]-1, 0))\n",
    "        elif action == 5:\n",
    "            temp = self.bot\n",
    "        elif action == 6:\n",
    "            temp = (self.bot[0], min(self.bot[1]+1, self.size-1))\n",
    "        elif action == 7:\n",
    "            temp = (min(self.bot[0]+1, self.size-1), max(self.bot[1]-1, 0))\n",
    "        elif action == 8:\n",
    "            temp = (min(self.bot[0]+1, self.size-1), self.bot[1])\n",
    "        elif action == 9:\n",
    "            temp = (min(self.bot[0]+1, self.size-1), min(self.bot[1]+1, self.size-1))\n",
    "        else:\n",
    "            raise ValueError(\"Invalid action: {}\".format(action))\n",
    "        \n",
    "        if self.ship[temp] == 1 or temp == self.crew:\n",
    "            temp = self.bot\n",
    "\n",
    "        self.bot = temp\n",
    "    \n",
    "    def move_crew(self):\n",
    "        cardinals = self.get_cardinals(self.crew)\n",
    "        available = self.get_available(self.crew)\n",
    "\n",
    "        # no bot fear, just random movement\n",
    "        if self.bot not in cardinals:\n",
    "            available.remove(self.crew)\n",
    "            self.crew = available[np.random.choice(len(available), size=1, replace=False)[0]]\n",
    "\n",
    "        # SCARY ASF RUN FAR AWAY\n",
    "        else:\n",
    "            if len(available) > 1:\n",
    "                available.remove(self.crew)\n",
    "            \n",
    "            random.shuffle(available)\n",
    "            \n",
    "            self.crew = available[0]\n",
    "\n",
    "            \n",
    "\n",
    "    def move_alien(self):\n",
    "        cardinals = self.get_cardinals(self.alien)\n",
    "        available = self.get_available(self.alien)\n",
    "\n",
    "        # no bot fear, just random movement\n",
    "        if self.bot not in cardinals:\n",
    "            available.remove(self.alien)\n",
    "            self.alien = available[np.random.choice(len(available), size=1, replace=False)[0]]\n",
    "\n",
    "        # SCARY ASF RUN FAR AWAY\n",
    "        else:\n",
    "            pq = []\n",
    "            for cell in available:\n",
    "                pq.append((cell, manhattan_distance(cell, self.bot)))\n",
    "            pq = sorted(pq, key=lambda x:x[1], reverse=True)\n",
    "            self.alien = pq[0][0]\n",
    "\n",
    "    def update_ship(self):\n",
    "        self.ship[self.ship != 1] = 0\n",
    "\n",
    "        # place teleport\n",
    "        self.ship[self.teleport] = 5\n",
    "        \n",
    "        # update bot\n",
    "        self.ship[self.bot] = 2\n",
    "\n",
    "        # update crew\n",
    "        self.ship[self.crew] = 3\n",
    "\n",
    "        # update alien\n",
    "        if self.has_alien:\n",
    "            self.ship[self.alien] = 4\n",
    "\n",
    "    # return state, done, reward\n",
    "    def step(self, action):\n",
    "        # move bot\n",
    "        self.move_bot(action)\n",
    "\n",
    "        # if alien, move alien\n",
    "        if self.has_alien:\n",
    "            self.move_alien()\n",
    "            if self.alien == self.crew:\n",
    "                state = self.ship\n",
    "                done = True\n",
    "                reward = -10\n",
    "                return state, done, reward\n",
    "            \n",
    "        # move crew\n",
    "        self.move_crew()\n",
    "        if self.crew == self.teleport:\n",
    "            self.update_ship()\n",
    "            state = self.ship\n",
    "            done = True\n",
    "            reward = 10\n",
    "            return state, done, reward\n",
    "        if self.alien == self.crew:\n",
    "            state = self.ship\n",
    "            done = True\n",
    "            reward = -10\n",
    "            return state, done, reward\n",
    "        \n",
    "        self.update_ship()\n",
    "        state = self.ship\n",
    "        done = False\n",
    "        reward = -0.1\n",
    "\n",
    "        # if near crew member\n",
    "        if manhattan_distance(self.bot, self.crew) <= 3:\n",
    "            reward += 0.5\n",
    "\n",
    "        # penalize distance from crew to teleport\n",
    "        reward -= manhattan_distance(self.crew, self.teleport) / 20.0\n",
    "\n",
    "        return state, done, reward\n",
    "        "
   ]
  },
  {
   "cell_type": "code",
   "execution_count": 4,
   "metadata": {},
   "outputs": [
    {
     "name": "stdout",
     "output_type": "stream",
     "text": [
      "[[1 0 0 0 0 0 0 0 0 0 0]\n",
      " [0 0 0 0 0 0 0 0 0 0 0]\n",
      " [0 0 0 1 1 0 0 1 0 0 0]\n",
      " [0 0 0 0 0 0 0 0 1 0 0]\n",
      " [0 0 0 0 1 0 1 0 0 0 0]\n",
      " [3 0 0 0 0 5 0 0 0 0 1]\n",
      " [0 0 0 0 1 0 1 1 1 0 0]\n",
      " [0 0 0 0 0 0 0 0 0 0 0]\n",
      " [0 2 1 0 0 0 0 0 0 0 0]\n",
      " [0 0 0 0 0 0 0 0 0 0 0]\n",
      " [0 0 1 0 0 0 0 0 0 0 0]]\n"
     ]
    }
   ],
   "source": [
    "# creating our very own custom ship\n",
    "env = Ship_Environment()\n",
    "print(env.ship)\n",
    "\n",
    "# # export ship, but I already created it so we don't need it for now\n",
    "# env.export_ship('our_ship.npy')"
   ]
  },
  {
   "cell_type": "code",
   "execution_count": 5,
   "metadata": {},
   "outputs": [
    {
     "name": "stdout",
     "output_type": "stream",
     "text": [
      "[[1 0 0 0 0 0 0 0 0 0 0]\n",
      " [0 0 0 0 0 0 0 0 0 0 0]\n",
      " [0 0 0 1 1 0 0 1 0 0 0]\n",
      " [0 0 0 0 0 0 0 0 1 0 0]\n",
      " [3 0 0 0 1 0 1 0 0 0 0]\n",
      " [0 0 0 0 0 5 0 0 0 0 1]\n",
      " [0 0 0 0 1 0 1 1 1 0 0]\n",
      " [0 0 0 0 0 0 0 0 0 0 0]\n",
      " [0 2 1 0 0 0 0 0 0 0 0]\n",
      " [0 0 0 0 0 0 0 0 0 0 0]\n",
      " [0 0 1 0 0 0 0 0 0 0 0]]\n",
      "-0.4\n"
     ]
    }
   ],
   "source": [
    "# testing\n",
    "state, done, reward = env.step(5)\n",
    "print(state)\n",
    "print(reward)"
   ]
  },
  {
   "cell_type": "markdown",
   "metadata": {},
   "source": [
    "# 1 No Bot"
   ]
  },
  {
   "cell_type": "markdown",
   "metadata": {},
   "source": [
    "### What is Tno bot(cell) in relation to the value of Tno bot for its neighbors? Give an explicit equation.\n",
    "\n",
    "If there are no blocked cells/the cell has all empty neighbors.\n",
    "$$\n",
    "T_{nobot}(i,j) = \\frac{1}{4} (T_{nobot}(i-1, j) + T_{nobot}(i+1, j) + T_{nobot}(i, j-1) + T_{nobot}(i, j+1)) + 1\n",
    "$$\n",
    "\n",
    "Realisitically, let n be number of neighbors:\n",
    "$$\n",
    "T_{nobot}(i,j) = \\frac{1}{n} * \\sum^n T_{nobot_n} + 1\n",
    "$$"
   ]
  },
  {
   "cell_type": "markdown",
   "metadata": {},
   "source": [
    "### Solve for the value of Tno bot for each cell. (Hint: Tno bot(teleport pad) = 0.)"
   ]
  },
  {
   "cell_type": "code",
   "execution_count": 6,
   "metadata": {},
   "outputs": [
    {
     "name": "stderr",
     "output_type": "stream",
     "text": [
      "C:\\Users\\aaron\\AppData\\Local\\Temp\\ipykernel_22884\\1012005063.py:26: DeprecationWarning: Conversion of an array with ndim > 0 to a scalar is deprecated, and will error in future. Ensure you extract a single element from your array before performing this operation. (Deprecated NumPy 1.25.)\n",
      "  crew_idx_0, crew_idx_1 = int(crew_idx[0]), int(crew_idx[1])\n",
      "C:\\Users\\aaron\\AppData\\Local\\Temp\\ipykernel_22884\\1012005063.py:34: DeprecationWarning: Conversion of an array with ndim > 0 to a scalar is deprecated, and will error in future. Ensure you extract a single element from your array before performing this operation. (Deprecated NumPy 1.25.)\n",
      "  bot_idx_0, bot_idx_1 = int(bot_idx[0]), int(bot_idx[1])\n"
     ]
    },
    {
     "name": "stdout",
     "output_type": "stream",
     "text": [
      "[[249.4 247.1 243.2  -1.  212.8 216.4 223.1 230.1 235.6 238.9 239.9]\n",
      " [249.8 245.7 237.3  -1.  207.2 210.2 219.9 228.5 234.8 238.3  -1. ]\n",
      " [251.1  -1.  219.9 200.6 195.6 193.4 213.8 225.2 232.9 238.  240.1]\n",
      " [250.5 249.1  -1.  183.3 177.2 149.8  -1.  221.5 229.7 236.8 240.2]\n",
      " [248.2 245.7  -1.  168.9  -1.   75.9  -1.  206.6 223.6 235.4 240.6]\n",
      " [245.5 236.8 208.6 152.6  77.3   0.   86.8 171.7 218.6 236.7 243.1]\n",
      " [248.5 243.4 233.5  -1.   -1.   97.6  -1.   -1.  238.6 245.5 249.1]\n",
      " [253.5 250.8 245.4 240.5 225.2 193.3 218.3 241.3 248.8 253.6 255.7]\n",
      " [258.4 256.7 253.  247.7 238.8 228.   -1.  254.  257.5 260.3 261.5]\n",
      " [261.8 260.8 258.3 254.6 250.5 248.8 257.1 260.1 262.8 264.8 265.4]\n",
      " [263.1 262.5 260.6 258.  255.7 255.6 259.4 262.5 265.  266.6 267. ]]\n"
     ]
    }
   ],
   "source": [
    "def get_cardinals(size, point, ev):\n",
    "        cardinals = []\n",
    "        for direction in [(0,1), (0,-1), (1,0), (-1,0)]:\n",
    "            x, y = point[0] + direction[0], point[1] + direction[1]\n",
    "            if 0 <= x < size and 0 <= y < size and ev[x,y] != -1:\n",
    "                cardinals.append((x,y))\n",
    "        return cardinals\n",
    "\n",
    "# initialize map\n",
    "env = Ship_Environment(size=11, has_alien=False)\n",
    "env.import_ship('our_ship.npy')\n",
    "ship = env.ship\n",
    "expected_values = np.array(ship, dtype=np.float32)\n",
    "expected_values[expected_values != 1] = 10\n",
    "expected_values[expected_values == 1] = -1\n",
    "\n",
    "# # test infinity\n",
    "# expected_values[0,1] = -1\n",
    "# expected_values[1,0] = -1\n",
    "# print(expected_values)\n",
    "\n",
    "# initialize temp map\n",
    "temp = np.zeros((11,11))\n",
    "\n",
    "# Tnobot(tp pad) = 0\n",
    "expected_values[5,5] = 0\n",
    "\n",
    "# repeat until convergence: every cell changes less than threshold\n",
    "convergence = False\n",
    "while not convergence:\n",
    "    for i in range(expected_values.shape[0]):\n",
    "        for j in range(expected_values.shape[1]):\n",
    "            if (i,j) == (5,5):\n",
    "                continue\n",
    "            if expected_values[i,j] == -1:\n",
    "                temp[i,j] = -1\n",
    "                continue\n",
    "\n",
    "            neighbors = get_cardinals(expected_values.shape[0], (i,j), expected_values)\n",
    "\n",
    "            if len(neighbors) <= 0:\n",
    "                expected_values[i,j] = -1\n",
    "                temp[i,j] = -1\n",
    "                continue\n",
    "\n",
    "            temp_sum = 0\n",
    "            for neighbor in neighbors:\n",
    "                temp_sum += expected_values[neighbor]\n",
    "            temp[i,j] = 1 + 1/len(neighbors) * temp_sum\n",
    "    \n",
    "    if np.all(np.abs(expected_values-temp) <= 0.001):\n",
    "        convergence = True\n",
    "\n",
    "    expected_values = temp.copy()\n",
    "\n",
    "# np.savetxt('test.txt', expected_values, fmt='%.2f')\n",
    "print(np.round(expected_values, 1))"
   ]
  },
  {
   "cell_type": "markdown",
   "metadata": {},
   "source": [
    "### Bonus: Why don't we need a $\\beta$?"
   ]
  },
  {
   "cell_type": "markdown",
   "metadata": {},
   "source": [
    "In the method we're using, each cell's value is updated by averaging the values of its neighboring cells. Since we treat all neighbors equally, there's no need for a weighting parameter like β. This method naturally considers all neighbors equally, making β unnecessary. Some methods do require β to control how much previous iterations influence the current one, but not this one."
   ]
  },
  {
   "cell_type": "markdown",
   "metadata": {},
   "source": [
    "### Are there any cells with an infinite expected time? Why or why not?"
   ]
  },
  {
   "cell_type": "markdown",
   "metadata": {},
   "source": [
    "Theoretically, cells that are blocked/surrounded by blocked cells are cells with an infinite expected time. I would say cells that cannot reach the goal by any means are definitely cells with infinite expected time because, well, you can never reach the goal. But cells that are blocked off (wall cells) can be argued either negligible or infinite expected time based on how you want to consider the crew being 'inside' the blocked/wall cell."
   ]
  },
  {
   "cell_type": "markdown",
   "metadata": {},
   "source": [
    "### If the crew member is initially randomly chosen cell (uniform), what is the expected time to get to the teleport pad?"
   ]
  },
  {
   "cell_type": "code",
   "execution_count": 7,
   "metadata": {},
   "outputs": [
    {
     "name": "stdout",
     "output_type": "stream",
     "text": [
      "The expected time to get to the teleport pad \n",
      "if the crew member is initially randomly chosen cell (uniform): \n",
      "228.96846491996357\n"
     ]
    }
   ],
   "source": [
    "uniform_random_average = np.mean(expected_values[expected_values != -1])\n",
    "print(f'The expected time to get to the teleport pad \\nif the crew member is initially randomly chosen cell (uniform): \\n{uniform_random_average}')"
   ]
  },
  {
   "cell_type": "markdown",
   "metadata": {},
   "source": [
    "# 2 Optimal Bot"
   ]
  },
  {
   "cell_type": "markdown",
   "metadata": {},
   "source": [
    "Now, let Tbot(bot cell, crew cell) be the expected amount of time until the crew member enters the teleport pad, if\n",
    "the bot is taking optimal actions to herd the crew member into the teleport pad."
   ]
  },
  {
   "cell_type": "markdown",
   "metadata": {},
   "source": [
    "### What is Tbot(bot cell, crew cell) in relation the available actions / accessible cells? Give an explicit equation.\n",
    "\n",
    "For every (bot_cell, crew_cell) pair, the expected time until the crew member enters the teleport pad is based on the average amount of time of the available / accessible cells to the goal + the manhattan distance from the bot to the crew."
   ]
  },
  {
   "cell_type": "markdown",
   "metadata": {},
   "source": [
    "### Solve for the value of Tbot for each cell pair, and note the optimal action to take in each case."
   ]
  },
  {
   "cell_type": "code",
   "execution_count": 8,
   "metadata": {},
   "outputs": [
    {
     "name": "stderr",
     "output_type": "stream",
     "text": [
      "C:\\Users\\aaron\\AppData\\Local\\Temp\\ipykernel_22884\\1012005063.py:26: DeprecationWarning: Conversion of an array with ndim > 0 to a scalar is deprecated, and will error in future. Ensure you extract a single element from your array before performing this operation. (Deprecated NumPy 1.25.)\n",
      "  crew_idx_0, crew_idx_1 = int(crew_idx[0]), int(crew_idx[1])\n",
      "C:\\Users\\aaron\\AppData\\Local\\Temp\\ipykernel_22884\\1012005063.py:34: DeprecationWarning: Conversion of an array with ndim > 0 to a scalar is deprecated, and will error in future. Ensure you extract a single element from your array before performing this operation. (Deprecated NumPy 1.25.)\n",
      "  bot_idx_0, bot_idx_1 = int(bot_idx[0]), int(bot_idx[1])\n"
     ]
    },
    {
     "name": "stdout",
     "output_type": "stream",
     "text": [
      "Finished! Total iterations:\n",
      "[[31.2 30.2 28.6 -1.  30.1 31.3 33.5 35.6 37.7 38.7 39.2]\n",
      " [31.6 29.9 27.6 -1.  28.7 29.9 32.6 35.4 37.4 38.6 -1. ]\n",
      " [35.2 -1.  24.6 23.6 25.5 26.5 31.4 34.8 37.1 38.5 39.2]\n",
      " [36.9 36.7 -1.  22.9 22.  19.8 -1.  34.9 36.6 38.5 39.2]\n",
      " [37.1 36.9 -1.  21.3 -1.  10.  -1.  32.9 36.  38.2 39.5]\n",
      " [37.6 35.7 31.  21.2 11.   0.  14.4 28.  35.6 39.  40.2]\n",
      " [39.3 38.2 36.2 -1.  -1.  17.2 -1.  -1.  39.8 41.  41.8]\n",
      " [41.6 41.  40.3 40.3 38.4 33.3 37.4 41.3 42.3 43.1 43.6]\n",
      " [43.9 43.5 42.8 42.3 41.  39.4 -1.  43.9 44.4 45.  45.2]\n",
      " [45.4 45.3 44.8 44.1 43.5 43.4 45.  45.5 45.9 46.3 46.4]\n",
      " [46.1 46.  45.6 45.1 44.7 44.8 45.6 46.1 46.6 46.9 47. ]]\n",
      "[[35.4 34.2 33.6 -1.  29.7 30.6 32.5 34.3 36.1 37.  37.7]\n",
      " [35.8 34.5 32.2 -1.  28.1 29.3 31.7 33.6 35.4 36.8 -1. ]\n",
      " [37.4 -1.  29.4 26.1 26.  25.8 30.2 32.4 34.4 36.2 36.9]\n",
      " [38.3 38.3 -1.  23.9 22.4 20.3 -1.  31.3 33.1 35.5 36.7]\n",
      " [38.2 37.5 -1.  22.5 -1.  10.7 -1.  27.8 32.  34.7 36.5]\n",
      " [37.7 35.8 30.3 21.8 11.2  0.  13.3 24.6 30.8 35.2 36.9]\n",
      " [38.8 37.4 35.4 -1.  -1.  16.3 -1.  -1.  35.8 37.5 38.5]\n",
      " [40.5 39.5 38.2 37.2 34.3 30.6 33.1 37.  38.6 39.6 40.4]\n",
      " [42.2 41.6 40.4 39.2 37.4 35.3 -1.  40.5 40.8 41.7 42.2]\n",
      " [43.6 43.3 42.4 41.4 40.4 40.2 42.  42.4 42.9 43.5 43.7]\n",
      " [44.2 44.  43.4 42.6 42.  41.8 42.9 43.3 43.9 44.2 44.3]]\n"
     ]
    }
   ],
   "source": [
    "def get_cardinals_avoid_bot(size, crew_point, ev, bot_point):\n",
    "    cardinals = []\n",
    "    for direction in [(0,1), (0,-1), (1,0), (-1,0)]:\n",
    "        x, y = crew_point[0] + direction[0], crew_point[1] + direction[1]\n",
    "        if 0 <= x < size and 0 <= y < size and ev[bot_point[0],bot_point[1],x,y] != -1 and (x,y) != bot_point:\n",
    "            cardinals.append((x,y))\n",
    "    return cardinals\n",
    "\n",
    "def get_possible_bot_moves(size, crew_point, ev, bot_point):\n",
    "    moves = []\n",
    "    for direction in [(0,1), (0,-1), (1,0), (-1,0), (0,0), (1,1), (1,-1), (-1,1), (-1,-1)]:\n",
    "        x, y = bot_point[0] + direction[0], bot_point[1] + direction[1]\n",
    "        if 0 <= x < size and 0 <= y < size and ev[x,y,crew_point[0],crew_point[1]] != -1 and (x,y) != crew_point:\n",
    "            moves.append((x,y))\n",
    "    return moves\n",
    "\n",
    "# initialize 4D map\n",
    "env = Ship_Environment(size=11, has_alien=False)\n",
    "env.import_ship('our_ship.npy')\n",
    "ship = env.ship\n",
    "expected_values_2 = np.array(ship, dtype=np.float32)\n",
    "expected_values_2[expected_values_2 != 1] = 1000\n",
    "expected_values_2[expected_values_2 == 1] = -1\n",
    "expected_values_4d = np.tile(expected_values_2, (11, 11, 1, 1))\n",
    "\n",
    "# # test infinity\n",
    "# expected_values[0,1] = -1\n",
    "# expected_values[1,0] = -1\n",
    "# print(expected_values)\n",
    "\n",
    "# initialize temp map\n",
    "temp = np.zeros((11,11,11,11))\n",
    "# repeat until convergence: every cell changes less than threshold\n",
    "convergence = False\n",
    "while not convergence:\n",
    "    for bot_x in range(expected_values_4d.shape[0]):\n",
    "        for bot_y in range(expected_values_4d.shape[0]):\n",
    "            # If the bot is in a blocked cell, that case is all set to -1 (i.e. not applicable)\n",
    "            if expected_values_4d[bot_x,bot_y,bot_x,bot_y] == -1:\n",
    "                for crew_x in range(expected_values_4d.shape[2]):\n",
    "                    for crew_y in range(expected_values_4d.shape[3]):\n",
    "                        temp[bot_x,bot_y,crew_x,crew_y] = -1\n",
    "                continue\n",
    "            \n",
    "            # Tbot(tp pad) = 0 regardless of where the bot is\n",
    "            expected_values_4d[bot_x,bot_y,5,5] = 0\n",
    "\n",
    "            # For each bot cell, consider the possible crew cells\n",
    "            for crew_x in range(expected_values_4d.shape[2]):\n",
    "                for crew_y in range(expected_values_4d.shape[3]):\n",
    "                    if (crew_x,crew_y) == (5,5):\n",
    "                        continue\n",
    "                    if expected_values_4d[bot_x,bot_y,crew_x,crew_y] == -1:\n",
    "                        temp[bot_x,bot_y,crew_x,crew_y] = -1\n",
    "                        continue\n",
    "\n",
    "                    possible_moves = get_possible_bot_moves(expected_values.shape[0], (crew_x,crew_y), expected_values_4d, (bot_x,bot_y))\n",
    "                    if len(possible_moves) <= 0:\n",
    "                        expected_values_4d[bot_x,bot_y,crew_x,crew_y] = -1\n",
    "                        temp[bot_x,bot_y,crew_x,crew_y] = -1\n",
    "                        continue\n",
    "\n",
    "                    current_min_avg = 1000\n",
    "\n",
    "                    for possible_move in possible_moves:\n",
    "                        possible_move_x, possible_move_y = possible_move\n",
    "                        neighbors = get_cardinals_avoid_bot(expected_values.shape[0], (crew_x,crew_y), expected_values_4d, (possible_move_x,possible_move_y))\n",
    "\n",
    "                        if len(neighbors) <= 0:\n",
    "                            expected_values_4d[possible_move_x,possible_move_y,crew_x,crew_y] = -1\n",
    "                            temp[possible_move_x,possible_move_y,crew_x,crew_y] = -1\n",
    "                            continue\n",
    "\n",
    "                        temp_sum = 0\n",
    "                        for neighbor in neighbors:\n",
    "                            neighbor_x, neighbor_y = neighbor\n",
    "                            temp_sum += expected_values_4d[possible_move_x, possible_move_y, neighbor_x, neighbor_y]\n",
    "                        if temp_sum != 0: current_min_avg = min(current_min_avg, 1 / len(neighbors) * temp_sum)\n",
    "                        \n",
    "                    temp[bot_x,bot_y,crew_x,crew_y] = 1 + current_min_avg\n",
    "    if np.all(np.abs(expected_values_4d-temp) <= .001):\n",
    "        convergence = True\n",
    "\n",
    "    expected_values_4d = temp.copy()\n",
    "\n",
    "# np.savetxt('test.txt', expected_values, fmt='%.2f')\n",
    "print(\"Finished! Total iterations:\")\n",
    "print(np.round(expected_values_4d[1,1], 1))\n",
    "print(np.round(expected_values_4d[5,5], 1))"
   ]
  },
  {
   "cell_type": "code",
   "execution_count": 9,
   "metadata": {},
   "outputs": [
    {
     "name": "stdout",
     "output_type": "stream",
     "text": [
      "-1.0\n"
     ]
    }
   ],
   "source": [
    "print(np.round(expected_values_4d[0,9][0,10], 1))"
   ]
  },
  {
   "cell_type": "markdown",
   "metadata": {},
   "source": [
    "Solve for optimal action"
   ]
  },
  {
   "cell_type": "code",
   "execution_count": 10,
   "metadata": {},
   "outputs": [],
   "source": [
    "# Directions\n",
    "    # \n",
    "    # 1  2  3\n",
    "    # 4  5  6\n",
    "    # 7  8  9\n",
    "    # \n",
    "def get_valid_actions(bot_cell, crew_cell, env):\n",
    "    directions = {\n",
    "        1: (bot_cell[0] - 1, bot_cell[1] - 1),  # Top-left\n",
    "        2: (bot_cell[0] - 1, bot_cell[1]),      # Top\n",
    "        3: (bot_cell[0] - 1, bot_cell[1] + 1),  # Top-right\n",
    "        4: (bot_cell[0], bot_cell[1] - 1),      # Left\n",
    "        5: bot_cell,                            # Center (stay)\n",
    "        6: (bot_cell[0], bot_cell[1] + 1),      # Right\n",
    "        7: (bot_cell[0] + 1, bot_cell[1] - 1),  # Bottom-left\n",
    "        8: (bot_cell[0] + 1, bot_cell[1]),      # Bottom\n",
    "        9: (bot_cell[0] + 1, bot_cell[1] + 1)   # Bottom-right\n",
    "    }\n",
    "    invalid_actions = []\n",
    "    for direction, temp in directions.items():\n",
    "        if not (0 <= temp[0] < env.size and 0 <= temp[1] < env.size and env.ship[temp] != 1 and temp != crew_cell):\n",
    "            invalid_actions.append(direction)\n",
    "    \n",
    "    for ia in invalid_actions:\n",
    "        del directions[ia]\n",
    "\n",
    "    return directions\n",
    "\n",
    "def get_expected_value_crew(env, ev, bot_cell, crew_cell):\n",
    "    evs = []\n",
    "    for direction in [(0,-1), (0, 1), (1, 0), (-1, 0)]:\n",
    "        x, y = direction[0] + crew_cell[0], direction[1] + crew_cell[1]\n",
    "        if (x,y) != bot_cell and (0 <= x < env.size and 0 <= y < env.size) and ev[bot_cell][(x,y)] >= 0:\n",
    "            evs.append(ev[bot_cell][(x,y)])\n",
    "    \n",
    "    if len(evs) <= 0:\n",
    "        return np.inf\n",
    "    \n",
    "    return np.mean(evs)\n",
    "\n",
    "optimal_action = {}\n",
    "\n",
    "coordinates = [(x,y) for x in range(env.size) for y in range(env.size)]\n",
    "for bot_cell in coordinates:\n",
    "    for crew_cell in coordinates:\n",
    "        if bot_cell == crew_cell:\n",
    "            continue\n",
    "\n",
    "        directions = get_valid_actions(bot_cell, crew_cell, env)\n",
    "        \n",
    "        # default is stay still, 5\n",
    "        min_ev = get_expected_value_crew(env, expected_values_4d, bot_cell, crew_cell)\n",
    "        min_act = 5\n",
    "\n",
    "        for direction, new_bot_cell in directions.items():\n",
    "            test_ev = get_expected_value_crew(env, expected_values_4d, new_bot_cell, crew_cell)\n",
    "            \n",
    "            if test_ev < min_ev:\n",
    "                min_ev = test_ev\n",
    "                min_act = direction\n",
    "        optimal_action[bot_cell, crew_cell] = min_act"
   ]
  },
  {
   "cell_type": "code",
   "execution_count": 11,
   "metadata": {},
   "outputs": [
    {
     "name": "stdout",
     "output_type": "stream",
     "text": [
      "8\n"
     ]
    }
   ],
   "source": [
    "print(optimal_action[(0,9),(0,10)])"
   ]
  },
  {
   "cell_type": "markdown",
   "metadata": {},
   "source": [
    "### Are there any pairs where the optimal action for the bot is to just stay still?\n",
    "\n",
    "Yes, in our ship, there is a corner where the crew can get stuck in, so when the bot approaches it, it needs to stay still to let it out of the corner but also minimize the distance it is away from the crew. This is a situation where staying still is best."
   ]
  },
  {
   "cell_type": "markdown",
   "metadata": {},
   "source": [
    "### How do the ‘time to escape’ values for the no-bot situation compare with time to escape with the bot? How much improvement is there, and what configurations give very little improvement?"
   ]
  },
  {
   "cell_type": "code",
   "execution_count": 27,
   "metadata": {},
   "outputs": [
    {
     "name": "stdout",
     "output_type": "stream",
     "text": [
      "average_time_given_crew_cell:\n",
      "[[36.  35.3 34.4 -1.  30.7 31.5 33.  34.9 36.5 37.7 38.2]\n",
      " [36.5 35.2 33.4 -1.  29.5 30.2 32.2 34.3 36.1 37.3 -1. ]\n",
      " [37.8 -1.  30.6 27.8 27.2 27.1 30.9 33.2 35.3 36.9 37.5]\n",
      " [38.9 38.9 -1.  25.2 24.2 20.6 -1.  32.2 34.2 36.3 37.4]\n",
      " [38.9 38.4 -1.  23.5 -1.  10.7 -1.  29.5 32.7 35.7 37.2]\n",
      " [38.5 36.5 31.1 21.8 11.3  0.  12.6 24.5 32.2 35.9 37.6]\n",
      " [39.4 38.1 35.8 -1.  -1.  15.8 -1.  -1.  36.3 38.  39. ]\n",
      " [41.  40.2 38.8 38.1 35.5 30.5 34.1 37.9 39.  40.2 40.9]\n",
      " [42.7 42.2 41.2 40.  38.2 36.4 -1.  40.9 41.6 42.4 42.8]\n",
      " [44.2 43.9 43.1 42.1 41.1 40.8 42.6 43.  43.6 44.2 44.3]\n",
      " [44.8 44.7 44.  43.2 42.5 42.5 43.3 44.  44.5 45.  45. ]]\n",
      "Average expected time if the bot and crew are both randomly chosen: 35.67531949234125\n",
      "\n",
      "As a reminder, here is the average time for the no-bot situation for comparison:\n",
      "[[249.4 247.1 243.2  -1.  212.8 216.4 223.1 230.1 235.6 238.9 239.9]\n",
      " [249.8 245.7 237.3  -1.  207.2 210.2 219.9 228.5 234.8 238.3  -1. ]\n",
      " [251.1  -1.  219.9 200.6 195.6 193.4 213.8 225.2 232.9 238.  240.1]\n",
      " [250.5 249.1  -1.  183.3 177.2 149.8  -1.  221.5 229.7 236.8 240.2]\n",
      " [248.2 245.7  -1.  168.9  -1.   75.9  -1.  206.6 223.6 235.4 240.6]\n",
      " [245.5 236.8 208.6 152.6  77.3   0.   86.8 171.7 218.6 236.7 243.1]\n",
      " [248.5 243.4 233.5  -1.   -1.   97.6  -1.   -1.  238.6 245.5 249.1]\n",
      " [253.5 250.8 245.4 240.5 225.2 193.3 218.3 241.3 248.8 253.6 255.7]\n",
      " [258.4 256.7 253.  247.7 238.8 228.   -1.  254.  257.5 260.3 261.5]\n",
      " [261.8 260.8 258.3 254.6 250.5 248.8 257.1 260.1 262.8 264.8 265.4]\n",
      " [263.1 262.5 260.6 258.  255.7 255.6 259.4 262.5 265.  266.6 267. ]]\n",
      "Average expected time for the no-bot situation if the crew is randomly chosen: 228.96846491996357\n"
     ]
    }
   ],
   "source": [
    "# If both the crew member and the bot is initially randomly chosen cell (uniform), what is the expected time to get to the teleport pad?\n",
    "# average_for_all_crew_and_bot_combinations = np.mean(average_time_given_bot_cell[average_time_given_bot_cell != -1])\n",
    "# print(f'The expected time to get to the teleport pad if \\nthe bot and crew are initially randomly chosen cell (uniform): \\n{average_for_all_crew_and_bot_combinations}')\n",
    "\n",
    "# Average time of all bot cells for each crew cell\n",
    "average_time_given_crew_cell = np.zeros((11, 11))\n",
    "for crew_x in range(expected_values_4d.shape[2]):\n",
    "    for crew_y in range(expected_values_4d.shape[3]):\n",
    "        valid_values = expected_values_4d[:, :, crew_x, crew_y][expected_values_4d[:, :, crew_x, crew_y] != -1]\n",
    "\n",
    "        if valid_values.size > 0:\n",
    "            average_time_given_crew_cell[crew_x, crew_y] = np.mean(valid_values)\n",
    "        else:\n",
    "            # Optionally handle the case where no valid values are found\n",
    "            # For example, set to NaN or keep as zero\n",
    "            average_time_given_crew_cell[crew_x, crew_y] = -1\n",
    "\n",
    "print(\"average_time_given_crew_cell:\")\n",
    "print(np.round(average_time_given_crew_cell,1))\n",
    "average_for_all_crew_and_bot_combinations = np.mean(average_time_given_crew_cell[average_time_given_crew_cell != -1])\n",
    "print(\"Average expected time if the bot and crew are both randomly chosen:\", average_for_all_crew_and_bot_combinations)\n",
    "\n",
    "print(\"\\nAs a reminder, here is the average time for the no-bot situation for comparison:\")\n",
    "print(np.round(expected_values, 1))\n",
    "average_for_no_bot_situation = np.mean(expected_values[expected_values != -1])\n",
    "print(\"Average expected time for the no-bot situation if the crew is randomly chosen:\", average_for_no_bot_situation)"
   ]
  },
  {
   "cell_type": "markdown",
   "metadata": {},
   "source": [
    "The output for \"average_time_given_crew_cell\" is a little hard to parse, so here is the explanation: the value at a given coordinate (e.g (1,1)) is the average of all possible bot cells assuming the crew member is at that coordinate (e.g. the crew member is at (1,1), so the average time for that crew member to get to the center for all bot cells is 35.2). This allows us to compare the effect of the bot vs the no-bot situation.\n",
    "\n",
    "The average time to escape for the no-bot situation is significantly higher than the bot situation for all cells. This is reflected in the large difference in averages: 229.0 with no bot vs. 35.7 with the bot. All configurations (except when the crew member is already on the teleport pad) give noticable improvement, but the cases where the crew member is far away from the center is much better with a bot than without a bot whereas the cases where the crew member is close to the center is only a little better with a bot than without a bot."
   ]
  },
  {
   "cell_type": "markdown",
   "metadata": {},
   "source": [
    "### If the bot gets to pick where it starts, and then the crew member will be placed at random in the remaining cells (uniformly), where should the bot choose to start, and why?"
   ]
  },
  {
   "cell_type": "code",
   "execution_count": 28,
   "metadata": {},
   "outputs": [
    {
     "name": "stdout",
     "output_type": "stream",
     "text": [
      "[[37.3 36.9 36.9 -1.  36.3 36.1 36.1 36.2 36.5 36.8 37.1]\n",
      " [37.  36.5 36.2 -1.  35.8 35.6 35.6 35.8 36.  36.3 -1. ]\n",
      " [36.7 -1.  35.8 35.6 35.5 35.3 35.3 35.4 35.6 35.8 36.3]\n",
      " [36.3 36.  -1.  35.3 35.1 35.2 -1.  35.1 35.2 35.6 36. ]\n",
      " [36.  35.7 -1.  35.  -1.  35.  -1.  34.8 35.1 35.4 35.8]\n",
      " [36.  35.5 35.2 35.1 34.9 35.  34.7 34.8 35.  35.2 35.6]\n",
      " [36.  35.4 35.1 -1.  -1.  34.7 -1.  -1.  35.  35.3 35.7]\n",
      " [36.  35.6 35.3 34.9 34.8 34.9 34.8 34.9 35.1 35.4 35.8]\n",
      " [36.3 35.9 35.4 35.  34.9 35.  -1.  35.  35.4 35.7 36.1]\n",
      " [36.6 36.1 35.6 35.4 35.2 35.2 35.2 35.4 35.6 36.  36.5]\n",
      " [36.9 36.4 36.1 35.8 35.7 35.5 35.5 35.8 36.1 36.4 36.8]]\n",
      "Minimum at bot cell = (6, 5) with average expected time 34.65490069332502\n"
     ]
    }
   ],
   "source": [
    "# code here\n",
    "average_time_given_bot_cell = np.zeros((11, 11))\n",
    "for bot_x in range(expected_values_4d.shape[0]):\n",
    "    for bot_y in range(expected_values_4d.shape[1]):\n",
    "        valid_values = expected_values_4d[bot_x, bot_y][expected_values_4d[bot_x, bot_y] != -1]\n",
    "\n",
    "        if valid_values.size > 0:\n",
    "            average_time_given_bot_cell[bot_x, bot_y] = np.mean(valid_values)\n",
    "        else:\n",
    "            # Optionally handle the case where no valid values are found\n",
    "            # For example, set to NaN or keep as zero\n",
    "            average_time_given_bot_cell[bot_x, bot_y] = -1\n",
    "\n",
    "print(np.round(average_time_given_bot_cell,1))\n",
    "\n",
    "# print the lowest value and its coordinate\n",
    "masked_array = np.ma.masked_where(average_time_given_bot_cell == -1, average_time_given_bot_cell)\n",
    "min_positions = np.where(masked_array == masked_array.min())\n",
    "\n",
    "for coord in zip(*min_positions):\n",
    "    print(\"Minimum at bot cell =\", coord, \"with average expected time\", average_time_given_bot_cell[coord])"
   ]
  },
  {
   "cell_type": "markdown",
   "metadata": {},
   "source": [
    "The bot cell should choose cell (6, 5) for this particular ship arrangement because, given that the crew member can start on any open cell with equal likelihoods of each cell being chosen, (6, 5) has the lowest average expected time. We can see that most the cells closer to the center have the lowest average expected times because the worst-case scenario (where the bot and crew are as far away from each other as possible) is still better than if the bot and the crew start in opposite corners. However, the difference is not that big since the best-case scenario (where the bot and crew are nearby) is similar regardless of where the bot starts. It also makes sense that the optimal cell for this ship arrangement is not directly centered but rather slightly to the right of the center (and slightly below the center, in general), since most of the blocked cells are on the top left quadrant, meaning the crew member is more likely to not be in the top left quadrant. Again, this difference is small but not negligible."
   ]
  },
  {
   "cell_type": "markdown",
   "metadata": {},
   "source": [
    "### How does the time to escape compare in the \"optimal bot starting cell\" case to the randomly placed crew situation previously?"
   ]
  },
  {
   "cell_type": "code",
   "execution_count": 29,
   "metadata": {},
   "outputs": [
    {
     "name": "stdout",
     "output_type": "stream",
     "text": [
      "Time for optimal bot starting cell:\n",
      "[[35.5 34.5 33.8 -1.  30.3 31.2 32.6 34.3 36.1 37.  37.7]\n",
      " [35.8 34.6 32.7 -1.  29.3 29.8 31.8 33.6 35.4 36.8 -1. ]\n",
      " [37.4 -1.  29.9 27.3 26.6 27.3 30.2 32.4 34.4 36.2 36.9]\n",
      " [38.3 38.3 -1.  24.7 24.1 20.3 -1.  31.3 33.1 35.5 36.7]\n",
      " [38.2 37.5 -1.  22.9 -1.  10.7 -1.  27.8 32.  34.7 36.5]\n",
      " [37.4 35.6 29.7 21.7 10.6  0.  12.1 24.6 30.8 35.2 36.8]\n",
      " [38.2 36.6 34.3 -1.  -1.  14.1 -1.  -1.  35.  36.6 38. ]\n",
      " [39.8 38.6 36.8 36.2 33.8 27.3 32.2 36.8 36.9 38.7 39.7]\n",
      " [41.5 41.  39.7 38.  36.2 34.3 -1.  38.9 40.  41.1 41.5]\n",
      " [42.9 42.6 41.8 40.7 39.6 39.3 41.6 41.6 42.4 42.7 43. ]\n",
      " [43.7 43.4 42.7 42.  41.2 41.3 42.  42.8 43.1 43.6 43.8]]\n",
      "\n",
      "As a reminder, here is the time for the no-bot situation for comparison:\n",
      "[[249.4 247.1 243.2  -1.  212.8 216.4 223.1 230.1 235.6 238.9 239.9]\n",
      " [249.8 245.7 237.3  -1.  207.2 210.2 219.9 228.5 234.8 238.3  -1. ]\n",
      " [251.1  -1.  219.9 200.6 195.6 193.4 213.8 225.2 232.9 238.  240.1]\n",
      " [250.5 249.1  -1.  183.3 177.2 149.8  -1.  221.5 229.7 236.8 240.2]\n",
      " [248.2 245.7  -1.  168.9  -1.   75.9  -1.  206.6 223.6 235.4 240.6]\n",
      " [245.5 236.8 208.6 152.6  77.3   0.   86.8 171.7 218.6 236.7 243.1]\n",
      " [248.5 243.4 233.5  -1.   -1.   97.6  -1.   -1.  238.6 245.5 249.1]\n",
      " [253.5 250.8 245.4 240.5 225.2 193.3 218.3 241.3 248.8 253.6 255.7]\n",
      " [258.4 256.7 253.  247.7 238.8 228.   -1.  254.  257.5 260.3 261.5]\n",
      " [261.8 260.8 258.3 254.6 250.5 248.8 257.1 260.1 262.8 264.8 265.4]\n",
      " [263.1 262.5 260.6 258.  255.7 255.6 259.4 262.5 265.  266.6 267. ]]\n"
     ]
    }
   ],
   "source": [
    "# Time array for \"optimal bot starting cell\"\n",
    "print(\"Time for optimal bot starting cell:\")\n",
    "print(np.round(expected_values_4d[6,5], 1))\n",
    "\n",
    "# Time array for \"no bot\"\n",
    "print(\"\\nAs a reminder, here is the time for the no-bot situation for comparison:\")\n",
    "print(np.round(expected_values, 1))"
   ]
  },
  {
   "cell_type": "markdown",
   "metadata": {},
   "source": [
    "We can see that the time to escape for the \"optimal bot starting cell\" case is an even greater improvement. The values for the optimal bot starting cell are not that much higher than the random bot starting cell case, but the values overall are a bit lower and thus make a bigger difference compared to the no-bot case."
   ]
  },
  {
   "cell_type": "markdown",
   "metadata": {},
   "source": [
    "# 3 Learned Bot"
   ]
  },
  {
   "cell_type": "code",
   "execution_count": 13,
   "metadata": {},
   "outputs": [],
   "source": [
    "import torch\n",
    "import torch.nn as nn\n",
    "import torch.optim as optim\n",
    "import torch.nn.functional as F\n",
    "from torch.utils.data import DataLoader, TensorDataset\n",
    "import matplotlib.pyplot as plt\n",
    "from matplotlib.animation import FuncAnimation\n",
    "from ipywidgets import interact, IntSlider, Layout\n",
    "from IPython.display import display, HTML\n",
    "import itertools\n",
    "device = torch.device('cuda' if torch.cuda.is_available() else 'cpu')"
   ]
  },
  {
   "cell_type": "markdown",
   "metadata": {},
   "source": [
    "In this section, train a model that takes as input a bot/crew configuration, and gives as output the optimal action\n",
    "for the bot to take in that configuration."
   ]
  },
  {
   "cell_type": "markdown",
   "metadata": {},
   "source": [
    "### How are you structuring your model? How are you structuring your data?\n",
    "The model will be a simple feed forward neural network that takes in 4 inputs and outputs a vector of size 9 based on probabilities of which action should be taken. The data will be in the format of a pair of tuples representing the bot and crew locations as input and a vector of one hot encodings of the correct action found previously."
   ]
  },
  {
   "cell_type": "code",
   "execution_count": 14,
   "metadata": {},
   "outputs": [],
   "source": [
    "class SimpleNN(nn.Module):\n",
    "    def __init__(self):\n",
    "        super(SimpleNN, self).__init__()\n",
    "        self.fc1 = nn.Linear(4, 64)\n",
    "        self.fc2 = nn.Linear(64, 32)\n",
    "        self.fc3 = nn.Linear(32, 9)\n",
    "\n",
    "    def forward(self, x):\n",
    "        x = x.view(x.size(0), -1)\n",
    "        x = torch.sigmoid(self.fc1(x))\n",
    "        x = torch.sigmoid(self.fc2(x))\n",
    "        x = self.fc3(x)\n",
    "        return x\n",
    "    \n",
    "    def act(self, x):\n",
    "        output = self(x.unsqueeze(0))\n",
    "        softmax_output = F.softmax(output[0], dim=0)\n",
    "        # probabilities = softmax_output.tolist()\n",
    "        # action = random.choices(range(len(probabilities)), weights=probabilities, k=1)[0]\n",
    "        action = torch.argmax(softmax_output, dim=0)\n",
    "        return action + 1"
   ]
  },
  {
   "cell_type": "code",
   "execution_count": 15,
   "metadata": {},
   "outputs": [],
   "source": [
    "def one_hot_encode(digits):\n",
    "    digit_to_index = {digit: idx for idx, digit in enumerate(range(1, 10))}\n",
    "    \n",
    "    num_classes = len(digit_to_index)\n",
    "    \n",
    "    encoded_vectors = np.zeros((len(digits), num_classes), dtype=int)\n",
    "    \n",
    "    for i, digit in enumerate(digits):\n",
    "        index = digit_to_index[digit]\n",
    "        encoded_vectors[i, index] = 1\n",
    "    \n",
    "    return encoded_vectors\n",
    "\n",
    "train_x = torch.tensor(list(optimal_action.keys())).float().to(device)\n",
    "train_y = torch.tensor(one_hot_encode(list(optimal_action.values()))).float().to(device)"
   ]
  },
  {
   "cell_type": "markdown",
   "metadata": {},
   "source": [
    "### How are you training your model?"
   ]
  },
  {
   "cell_type": "markdown",
   "metadata": {},
   "source": [
    "To train my model, I will be using cross entropy loss because I am trying to predict classes from 1 to 9. I will also be using the Adam optimizer for adaptability in learning rates."
   ]
  },
  {
   "cell_type": "code",
   "execution_count": 16,
   "metadata": {},
   "outputs": [
    {
     "name": "stdout",
     "output_type": "stream",
     "text": [
      "Epoch [0/10000], Loss: 2.2894558906555176\n",
      "Epoch [1000/10000], Loss: 0.565790593624115\n",
      "Epoch [2000/10000], Loss: 0.37757131457328796\n",
      "Epoch [3000/10000], Loss: 0.2866896092891693\n",
      "Epoch [4000/10000], Loss: 0.23623104393482208\n",
      "Epoch [5000/10000], Loss: 0.20550866425037384\n",
      "Epoch [6000/10000], Loss: 0.1825181543827057\n",
      "Epoch [7000/10000], Loss: 0.1651482880115509\n",
      "Epoch [8000/10000], Loss: 0.15948623418807983\n",
      "Epoch [9000/10000], Loss: 0.14131447672843933\n"
     ]
    }
   ],
   "source": [
    "losses = []\n",
    "\n",
    "model = SimpleNN().to(device)\n",
    "\n",
    "criterion = nn.CrossEntropyLoss()\n",
    "optimizer = optim.Adam(model.parameters(), lr=0.01)\n",
    "\n",
    "model.train()\n",
    "num_epochs = 10000\n",
    "for epoch in range(num_epochs):\n",
    "\n",
    "    output = model(train_x)\n",
    "\n",
    "    loss = criterion(output, train_y)\n",
    "\n",
    "    optimizer.zero_grad()\n",
    "    loss.backward()\n",
    "    optimizer.step()\n",
    "\n",
    "    losses.append(loss.item())\n",
    "\n",
    "    if epoch % 1000 == 0:\n",
    "        print(f'Epoch [{epoch}/{num_epochs}], Loss: {loss.item()}')"
   ]
  },
  {
   "cell_type": "code",
   "execution_count": 17,
   "metadata": {},
   "outputs": [
    {
     "data": {
      "image/png": "[encoded data removed]",
      "text/plain": [
       "<Figure size 640x480 with 1 Axes>"
      ]
     },
     "metadata": {},
     "output_type": "display_data"
    }
   ],
   "source": [
    "# plot the loss over epochs\n",
    "%matplotlib inline\n",
    "plt.plot(range(num_epochs), losses, label='Training Loss')\n",
    "plt.xlabel('Epoch')\n",
    "plt.ylabel('Loss')\n",
    "plt.title('Training Loss over Epochs')\n",
    "plt.legend()\n",
    "plt.show()"
   ]
  },
  {
   "cell_type": "markdown",
   "metadata": {},
   "source": [
    "### How can you tell how accurate your model is?"
   ]
  },
  {
   "cell_type": "markdown",
   "metadata": {},
   "source": [
    "We can see from the above loss that the loss is decreasing showing that as epochs increase, the model is getting better at reproducing the training data overall. To test accuracy, I will see which indices have the highest probabilities and compare them with the actual optimal moves."
   ]
  },
  {
   "cell_type": "code",
   "execution_count": 18,
   "metadata": {},
   "outputs": [
    {
     "name": "stdout",
     "output_type": "stream",
     "text": [
      "Accuracy on training data: 95.85399449035813\n"
     ]
    }
   ],
   "source": [
    "model.eval()\n",
    "\n",
    "correct = 0\n",
    "outputs = model(train_x)\n",
    "for output, y_vector in zip(outputs, train_y):\n",
    "    actual = torch.argmax(y_vector).item()\n",
    "    pred = torch.argmax(output).item()\n",
    "\n",
    "    if pred == actual:\n",
    "        correct += 1\n",
    "\n",
    "print(f'Accuracy on training data: {correct/outputs.size(0) * 100}')\n"
   ]
  },
  {
   "cell_type": "markdown",
   "metadata": {},
   "source": [
    "### How can you avoid overfitting? Do you need to? Why or why not?"
   ]
  },
  {
   "cell_type": "markdown",
   "metadata": {},
   "source": [
    "In order to avoid overfitting, we should have a test set that acts as real world inputs so we can continually test loss on that set and end the training when that loss starts to increase. When test loss starts to increase as training loss is decreasing, it means that the model is no longer learning about the data and is instead learning about the training set. In this case, we do not need to avoid overfitting because the real world data is the training data that we have. This is due to the fact that the ship is not changing and we have all the information possible, so there is no real need to avoid overfitting. No generalization needed = no overfitting possible."
   ]
  },
  {
   "cell_type": "markdown",
   "metadata": {},
   "source": [
    "### Does accuracy of your model translate to effectiveness of a bot based on your model (i.e., can it herd the crew member to the teleport)? Experiment, compare, and verify. Explain your results."
   ]
  },
  {
   "cell_type": "code",
   "execution_count": 19,
   "metadata": {},
   "outputs": [
    {
     "name": "stderr",
     "output_type": "stream",
     "text": [
      "C:\\Users\\aaron\\AppData\\Local\\Temp\\ipykernel_22884\\1012005063.py:26: DeprecationWarning: Conversion of an array with ndim > 0 to a scalar is deprecated, and will error in future. Ensure you extract a single element from your array before performing this operation. (Deprecated NumPy 1.25.)\n",
      "  crew_idx_0, crew_idx_1 = int(crew_idx[0]), int(crew_idx[1])\n",
      "C:\\Users\\aaron\\AppData\\Local\\Temp\\ipykernel_22884\\1012005063.py:34: DeprecationWarning: Conversion of an array with ndim > 0 to a scalar is deprecated, and will error in future. Ensure you extract a single element from your array before performing this operation. (Deprecated NumPy 1.25.)\n",
      "  bot_idx_0, bot_idx_1 = int(bot_idx[0]), int(bot_idx[1])\n",
      "100%|██████████| 100/100 [00:02<00:00, 43.51it/s]\n"
     ]
    },
    {
     "name": "stdout",
     "output_type": "stream",
     "text": [
      "---No randomization of bot/crew---\n",
      "Average Number of Moves on until Success: 31.2\n"
     ]
    },
    {
     "name": "stderr",
     "output_type": "stream",
     "text": [
      "100%|██████████| 100/100 [00:02<00:00, 44.32it/s]"
     ]
    },
    {
     "name": "stdout",
     "output_type": "stream",
     "text": [
      "---With randomization of bot/crew---\n",
      "Average Number of Moves on until Success: 30.05\n"
     ]
    },
    {
     "name": "stderr",
     "output_type": "stream",
     "text": [
      "\n"
     ]
    }
   ],
   "source": [
    "env = Ship_Environment(size=11, has_alien=False)\n",
    "env.import_ship('our_ship.npy')\n",
    "\n",
    "# debugging / visualization purposes\n",
    "# states = []\n",
    "\n",
    "num_moves = []\n",
    "\n",
    "for _ in tqdm(range(100)):\n",
    "    done = False\n",
    "    for moves in itertools.count():\n",
    "        # if finish, return number of moves\n",
    "        if done:\n",
    "            num_moves.append(moves)\n",
    "            env.import_ship('our_ship.npy')\n",
    "            break\n",
    "        \n",
    "        # get the bot action from the network\n",
    "        x = torch.tensor([env.bot, env.crew]).float().to(device)\n",
    "        bot_action = model.act(x)\n",
    "\n",
    "        # move the bot\n",
    "        state, done, reward = env.step(bot_action)\n",
    "\n",
    "        # debugging / visualization purposes\n",
    "        # states.append(state/5)\n",
    "\n",
    "print('---No randomization of bot/crew---')\n",
    "print(f'Average Number of Moves on until Success: {sum(num_moves)/len(num_moves)}')\n",
    "\n",
    "num_moves = []\n",
    "\n",
    "for _ in tqdm(range(100)):\n",
    "    done = False\n",
    "    for moves in itertools.count():\n",
    "        # if finish, return number of moves\n",
    "        if done:\n",
    "            num_moves.append(moves)\n",
    "            env.import_ship('our_ship.npy')\n",
    "            env.randomize_characters()\n",
    "            break\n",
    "        \n",
    "        # get the bot action from the network\n",
    "        x = torch.tensor([env.bot, env.crew]).float().to(device)\n",
    "        bot_action = model.act(x)\n",
    "\n",
    "        # move the bot\n",
    "        state, done, reward = env.step(bot_action)\n",
    "\n",
    "print('---With randomization of bot/crew---')\n",
    "print(f'Average Number of Moves on until Success: {sum(num_moves)/len(num_moves)}')"
   ]
  },
  {
   "cell_type": "markdown",
   "metadata": {},
   "source": [
    "Does accuracy of your model translate to effectiveness of a bot based on your model (i.e., can it herd the crew member to the teleport)? Experiment, compare, and verify. Explain your results.\n",
    "\n",
    "The accuracy of my model translates to an effective bot. In every single run, the bot is able to herd the crew into the teleport. When the ship layout is the same as the training, the average number of moves until success is around 30."
   ]
  },
  {
   "cell_type": "markdown",
   "metadata": {},
   "source": [
    "### If your initial model fails to translate to an effective bot - try again, and build a model that can be used to guide the bot in place of the computed policy from the previous section. Is your model smaller or larger in memory than the lookup table you computed in the previous section?\n",
    "\n",
    "Our initial model was able to translate to an effective bot."
   ]
  },
  {
   "cell_type": "markdown",
   "metadata": {},
   "source": [
    "# 4 Generalizing"
   ]
  },
  {
   "cell_type": "markdown",
   "metadata": {},
   "source": [
    "## Try to build and train a model capable of guiding the bot regardless of what ship configuration it is on. How are you approaching this problem? Where are you getting your data from? How can you assess the quality and effectiveness of your model?"
   ]
  },
  {
   "cell_type": "markdown",
   "metadata": {},
   "source": [
    "First, let's test our model on random configurations."
   ]
  },
  {
   "cell_type": "code",
   "execution_count": 20,
   "metadata": {},
   "outputs": [
    {
     "name": "stderr",
     "output_type": "stream",
     "text": [
      "100%|██████████| 100/100 [01:00<00:00,  1.64it/s]"
     ]
    },
    {
     "name": "stdout",
     "output_type": "stream",
     "text": [
      "---No randomization of bot/crew---\n",
      "Average Number of Moves on until Success: 80.78571428571429\n",
      "Failures: 86\n"
     ]
    },
    {
     "name": "stderr",
     "output_type": "stream",
     "text": [
      "\n"
     ]
    }
   ],
   "source": [
    "env = Ship_Environment(size=11, has_alien=False)\n",
    "\n",
    "# debugging / visualization purposes\n",
    "# states = []\n",
    "\n",
    "num_moves = []\n",
    "failures = 0\n",
    "for _ in tqdm(range(100)):\n",
    "    done = False\n",
    "    for moves in itertools.count():\n",
    "        if moves > 1000:\n",
    "            failures += 1\n",
    "            break\n",
    "        # if finish, return number of moves\n",
    "        if done:\n",
    "            num_moves.append(moves)\n",
    "            env.reset()\n",
    "            break\n",
    "        \n",
    "        # get the bot action from the network\n",
    "        x = torch.tensor([env.bot, env.crew]).float().to(device)\n",
    "        bot_action = model.act(x)\n",
    "\n",
    "        # move the bot\n",
    "        state, done, reward = env.step(bot_action)\n",
    "\n",
    "        # debugging / visualization purposes\n",
    "        # states.append(state/5)\n",
    "\n",
    "print('---No randomization of bot/crew---')\n",
    "print(f'Average Number of Moves on until Success: {sum(num_moves)/len(num_moves)}')\n",
    "print(f'Failures: {failures}')"
   ]
  },
  {
   "cell_type": "markdown",
   "metadata": {},
   "source": [
    "### How are you approaching this problem?"
   ]
  },
  {
   "cell_type": "markdown",
   "metadata": {},
   "source": [
    "In order to solve this problem, we decided to utilize supervised learning to see if we can make a more generalized bot. The input data will be in the form of 12 tuples, 10 for the blocked cells that are randomly initialized, and 2 for the moving players/characters."
   ]
  },
  {
   "cell_type": "code",
   "execution_count": 21,
   "metadata": {},
   "outputs": [],
   "source": [
    "class LessSimpleNN(nn.Module):\n",
    "    def __init__(self):\n",
    "        super(LessSimpleNN, self).__init__()\n",
    "        self.fc1 = nn.Linear(32, 64)\n",
    "        self.fc2 = nn.Linear(64, 32)\n",
    "        self.fc3 = nn.Linear(32, 9)\n",
    "\n",
    "        nn.init.kaiming_uniform_(self.fc1.weight, mode='fan_in', nonlinearity='sigmoid')\n",
    "        nn.init.kaiming_uniform_(self.fc2.weight, mode='fan_in', nonlinearity='sigmoid')\n",
    "        nn.init.kaiming_uniform_(self.fc3.weight, mode='fan_in', nonlinearity='sigmoid')\n",
    "\n",
    "    def forward(self, x):\n",
    "        x = x.view(x.size(0), -1)\n",
    "        x = torch.sigmoid(self.fc1(x))\n",
    "        x = torch.sigmoid(self.fc2(x))\n",
    "        x = torch.sigmoid(self.fc3(x))\n",
    "        return x\n",
    "    \n",
    "    def act(self, x):\n",
    "        output = self(x.unsqueeze(0))\n",
    "        softmax_output = F.softmax(output[0], dim=0)\n",
    "        # probabilities = softmax_output.tolist()\n",
    "        # action = random.choices(range(len(probabilities)), weights=probabilities, k=1)[0]\n",
    "        action = torch.argmax(softmax_output, dim=0)\n",
    "        return action + 1"
   ]
  },
  {
   "cell_type": "markdown",
   "metadata": {},
   "source": [
    "### Where are you getting your data from? "
   ]
  },
  {
   "cell_type": "markdown",
   "metadata": {},
   "source": [
    "To get the data for the supervised learning, I will be repeating problem 2 but for many different ships in order to populate the training data. For testing data, I will be repeating problem 2 as well but for unseen ships. We need testing data now because there is risk of overfitting. I also realized that calculating the true expected value for the optimal bot takes much longer than calculating simple relativity with the expected values but gives very similar results in terms of optimal actions. Due to this, I will instead be calculating this instead to populate data for training."
   ]
  },
  {
   "cell_type": "code",
   "execution_count": 22,
   "metadata": {},
   "outputs": [
    {
     "name": "stdout",
     "output_type": "stream",
     "text": [
      "726050\n"
     ]
    }
   ],
   "source": [
    "def get_cardinals(size, point, ev, bot_cell):\n",
    "        cardinals = []\n",
    "        for direction in [(0,1), (0,-1), (1,0), (-1,0)]:\n",
    "            x, y = point[0] + direction[0], point[1] + direction[1]\n",
    "            if 0 <= x < size and 0 <= y < size and ev[x,y] != -1 and (x,y) != bot_cell:\n",
    "                cardinals.append((x,y))\n",
    "        return cardinals\n",
    "\n",
    "# Directions\n",
    "    # \n",
    "    # 1  2  3\n",
    "    # 4  5  6\n",
    "    # 7  8  9\n",
    "    # \n",
    "def get_valid_actions(bot_cell, crew_cell, env):\n",
    "    directions = {\n",
    "        1: (bot_cell[0] - 1, bot_cell[1] - 1),  # Top-left\n",
    "        2: (bot_cell[0] - 1, bot_cell[1]),      # Top\n",
    "        3: (bot_cell[0] - 1, bot_cell[1] + 1),  # Top-right\n",
    "        4: (bot_cell[0], bot_cell[1] - 1),      # Left\n",
    "        5: bot_cell,                            # Center (stay)\n",
    "        6: (bot_cell[0], bot_cell[1] + 1),      # Right\n",
    "        7: (bot_cell[0] + 1, bot_cell[1] - 1),  # Bottom-left\n",
    "        8: (bot_cell[0] + 1, bot_cell[1]),      # Bottom\n",
    "        9: (bot_cell[0] + 1, bot_cell[1] + 1)   # Bottom-right\n",
    "    }\n",
    "    invalid_actions = []\n",
    "    for direction, temp in directions.items():\n",
    "        if not (0 <= temp[0] < env.size and 0 <= temp[1] < env.size and env.ship[temp] != 1 and temp != crew_cell):\n",
    "            invalid_actions.append(direction)\n",
    "    \n",
    "    for ia in invalid_actions:\n",
    "        del directions[ia]\n",
    "\n",
    "    return directions\n",
    "\n",
    "optimal_action_dataset = []\n",
    "\n",
    "# get every combination of coordinates\n",
    "coordinates = [(i, j) for i in range(env.size) for j in range(env.size)]\n",
    "\n",
    "for _ in range(50):\n",
    "    env = Ship_Environment(size=11, has_alien=False)\n",
    "    ship = env.ship\n",
    "    indices = np.where(ship == 1)\n",
    "    wall_coordinates = list(zip(indices[0], indices[1]))\n",
    "\n",
    "    # key: (bot_cell, crew_cell) \n",
    "    # value: expected time\n",
    "    tbot = {}\n",
    "\n",
    "    for bot_cell in coordinates:\n",
    "        for crew_cell in coordinates:\n",
    "            if crew_cell == (5,5):\n",
    "                tbot[(bot_cell, crew_cell)] = 0\n",
    "                continue\n",
    "\n",
    "            # cannot coexist\n",
    "            if bot_cell == crew_cell:\n",
    "                continue\n",
    "\n",
    "            # cannot be in a wall\n",
    "            if ship[bot_cell] == -1 or ship[crew_cell] == -1:\n",
    "                continue\n",
    "\n",
    "            # average of accessible crew cells\n",
    "            temp_sum = 0\n",
    "            accessible_cells = get_cardinals(env.size, crew_cell, expected_values, bot_cell)\n",
    "            if accessible_cells:\n",
    "                for ac in accessible_cells:\n",
    "                    temp_sum += expected_values[ac]\n",
    "                temp_sum /= len(accessible_cells)\n",
    "            else:\n",
    "                temp_sum = np.inf\n",
    "\n",
    "            # manhattan distance + average of accessible crew cells\n",
    "            tbot[(bot_cell, crew_cell)] = manhattan_distance(bot_cell, crew_cell) + temp_sum\n",
    "\n",
    "    for pair, curr_ev in tbot.items():\n",
    "        bot_cell, crew_cell = pair\n",
    "        directions = get_valid_actions(bot_cell, crew_cell, env)\n",
    "        \n",
    "        # default is stay still, 5\n",
    "        min_ev = curr_ev\n",
    "        min_act = 5\n",
    "        for direction, new_bot_cell in directions.items():\n",
    "            test_ev = tbot[(new_bot_cell, crew_cell)]\n",
    "            if test_ev < min_ev:\n",
    "                min_ev = test_ev\n",
    "                min_act = direction\n",
    "\n",
    "        temp = wall_coordinates.copy()\n",
    "        temp.append(bot_cell)\n",
    "        temp.append(crew_cell)\n",
    "        optimal_action_dataset.append((temp, min_act))\n",
    "\n",
    "print(len(optimal_action_dataset))"
   ]
  },
  {
   "cell_type": "code",
   "execution_count": 23,
   "metadata": {},
   "outputs": [
    {
     "name": "stdout",
     "output_type": "stream",
     "text": [
      "Shapes:\n",
      "train_x: (580840, 32)\n",
      "train_y: (580840, 9)\n",
      "test_x: (145210, 32)\n",
      "test_y: (145210, 9)\n"
     ]
    }
   ],
   "source": [
    "# shuffle the dataset\n",
    "random.shuffle(optimal_action_dataset)\n",
    "\n",
    "x_values = np.array([item[0] for item in optimal_action_dataset])\n",
    "y_values = np.array([item[1] for item in optimal_action_dataset])\n",
    "num_samples = len(x_values)\n",
    "num_features = x_values.shape[1] * x_values.shape[2]\n",
    "train_x = x_values.reshape(num_samples, num_features)\n",
    "\n",
    "# 80/20 split\n",
    "split_index = int(0.8 * num_samples)\n",
    "\n",
    "# training and testing sets\n",
    "train_x, test_x = train_x[:split_index], train_x[split_index:]\n",
    "train_y, test_y = y_values[:split_index], y_values[split_index:]\n",
    "\n",
    "train_y = one_hot_encode(train_y)\n",
    "test_y = one_hot_encode(test_y)\n",
    "\n",
    "print(\"Shapes:\")\n",
    "print(\"train_x:\", train_x.shape)\n",
    "print(\"train_y:\", train_y.shape)\n",
    "print(\"test_x:\", test_x.shape)\n",
    "print(\"test_y:\", test_y.shape)"
   ]
  },
  {
   "cell_type": "code",
   "execution_count": 24,
   "metadata": {},
   "outputs": [
    {
     "name": "stdout",
     "output_type": "stream",
     "text": [
      "Epoch 1, Loss: 1.378232826386427\n",
      "Epoch 2, Loss: 1.3719532596035222\n",
      "Epoch 3, Loss: 1.371950984198178\n",
      "Epoch 4, Loss: 1.3719509840405633\n"
     ]
    }
   ],
   "source": [
    "model = LessSimpleNN().to(device)\n",
    "\n",
    "criterion = nn.CrossEntropyLoss()\n",
    "optimizer = optim.Adam(model.parameters(), lr=0.001)\n",
    "\n",
    "train_x_tensor = torch.tensor(train_x, dtype=torch.float32).to(device)\n",
    "train_y_tensor = torch.tensor(train_y.argmax(axis=1), dtype=torch.long).to(device)\n",
    "\n",
    "train_dataset = TensorDataset(train_x_tensor, train_y_tensor)\n",
    "train_loader = DataLoader(train_dataset, batch_size=64, shuffle=True, num_workers=4)\n",
    "\n",
    "num_epochs = 10\n",
    "prev_loss = np.inf\n",
    "for epoch in range(num_epochs):\n",
    "    model.train()\n",
    "    running_loss = 0.0\n",
    "    for inputs, labels in train_loader:\n",
    "        optimizer.zero_grad()\n",
    "        outputs = model(inputs)\n",
    "        loss = criterion(outputs, labels)\n",
    "        loss.backward()\n",
    "        optimizer.step()\n",
    "        running_loss += loss.item()\n",
    "    if running_loss/len(train_loader) >= prev_loss:\n",
    "        break\n",
    "    prev_loss = running_loss/len(train_loader)\n",
    "    print(f\"Epoch {epoch + 1}, Loss: {running_loss / len(train_loader)}\")"
   ]
  },
  {
   "cell_type": "code",
   "execution_count": 25,
   "metadata": {},
   "outputs": [
    {
     "name": "stderr",
     "output_type": "stream",
     "text": [
      "100%|██████████| 2269/2269 [00:06<00:00, 378.16it/s]"
     ]
    },
    {
     "name": "stdout",
     "output_type": "stream",
     "text": [
      "Test Accuracy: 17.84%\n"
     ]
    },
    {
     "name": "stderr",
     "output_type": "stream",
     "text": [
      "\n"
     ]
    }
   ],
   "source": [
    "# Evaluate on test data\n",
    "test_x_tensor = torch.tensor(test_x, dtype=torch.float32).to(device)\n",
    "test_y_tensor = torch.tensor(test_y.argmax(axis=1), dtype=torch.long).to(device)\n",
    "test_dataset = TensorDataset(test_x_tensor, test_y_tensor)\n",
    "test_loader = DataLoader(test_dataset, batch_size=64, num_workers=4)\n",
    "\n",
    "model.eval()\n",
    "correct = 0\n",
    "total = 0\n",
    "with torch.no_grad():\n",
    "    for inputs, labels in tqdm(test_loader):\n",
    "        outputs = model(inputs)\n",
    "        _, predicted = torch.max(outputs, 1)\n",
    "        total += labels.size(0)\n",
    "        correct += (predicted == labels).sum().item()\n",
    "\n",
    "accuracy = correct / total\n",
    "print(f\"Test Accuracy: {accuracy * 100:.2f}%\")"
   ]
  },
  {
   "cell_type": "markdown",
   "metadata": {},
   "source": [
    "### How can you assess the quality and effectiveness of your model?"
   ]
  },
  {
   "cell_type": "code",
   "execution_count": 26,
   "metadata": {},
   "outputs": [
    {
     "name": "stderr",
     "output_type": "stream",
     "text": [
      "100%|██████████| 100/100 [00:13<00:00,  7.47it/s]"
     ]
    },
    {
     "name": "stdout",
     "output_type": "stream",
     "text": [
      "---No randomization of bot/crew---\n",
      "Average Number of Moves on until Success: 246.46938775510205\n",
      "Failures: 2\n"
     ]
    },
    {
     "name": "stderr",
     "output_type": "stream",
     "text": [
      "\n"
     ]
    }
   ],
   "source": [
    "env = Ship_Environment(size=11, has_alien=False)\n",
    "ship = env.ship\n",
    "indices = np.where(ship == 1)\n",
    "wall_coordinates = list(zip(indices[0], indices[1]))\n",
    "# debugging / visualization purposes\n",
    "# states = []\n",
    "\n",
    "num_moves = []\n",
    "failures = 0\n",
    "for _ in tqdm(range(100)):\n",
    "    done = False\n",
    "    for moves in itertools.count():\n",
    "        if moves > 1000:\n",
    "            failures += 1\n",
    "            break\n",
    "        # if finish, return number of moves\n",
    "        if done:\n",
    "            num_moves.append(moves)\n",
    "            env.reset()\n",
    "            break\n",
    "        \n",
    "        # get the bot action from the network\n",
    "        temp = wall_coordinates.copy()\n",
    "        temp.append(env.bot)\n",
    "        temp.append(env.crew)\n",
    "        x = torch.tensor([temp]).float().to(device)\n",
    "        bot_action = model.act(x)\n",
    "\n",
    "        # move the bot\n",
    "        state, done, reward = env.step(bot_action)\n",
    "\n",
    "        # debugging / visualization purposes\n",
    "        # states.append(state/5)\n",
    "\n",
    "print('---No randomization of bot/crew---')\n",
    "print(f'Average Number of Moves on until Success: {sum(num_moves)/len(num_moves)}')\n",
    "print(f'Failures: {failures}')"
   ]
  },
  {
   "cell_type": "code",
   "execution_count": 43,
   "metadata": {},
   "outputs": [],
   "source": [
    "# debugging / visualization purposes\n",
    "# grid_size = 11\n",
    "# fig, ax = plt.subplots(figsize=(11,8))\n",
    "\n",
    "# # heatmap\n",
    "# heatmap = ax.imshow(np.zeros_like(states[0]), cmap='viridis', interpolation='nearest', vmin=0, vmax=1)\n",
    "# plt.colorbar(heatmap, ax=ax)\n",
    "# ax.set_xlim(0, grid_size)\n",
    "# ax.set_ylim(0, grid_size)\n",
    "# ax.set_aspect('equal')\n",
    "# ax.set_title('Ship Environment')\n",
    "\n",
    "# ax.invert_yaxis()\n",
    "\n",
    "# def update(frame):\n",
    "#     # update\n",
    "#     heatmap.set_array(states[frame])\n",
    "\n",
    "# ani = FuncAnimation(fig, update, frames=len(states), repeat=False)\n",
    "\n",
    "# %matplotlib notebook\n",
    "# display(HTML(ani.to_jshtml()))"
   ]
  },
  {
   "cell_type": "markdown",
   "metadata": {},
   "source": [
    "### Bonus Question\n",
    "\n",
    "In this section, since we have alien too, we are creating a 6d matrix instead with additional alien parameters. Our approach to calculating the Expected Time involves initially considering every possible bot position. For each bot position, we verify its validity. If it's valid, we explore all potential configurations of alien cells, ensuring they are within bounds and not obstructed. Additionally, we impose conditions to ensure that prospective alien positions do not overlap with bot positions. Once we've filtered out all bot-alien pairs for a given bot position, we proceed to evaluate all possible crew positions. Here, we ensure that crew future positions do not intersect with either bot or alien positions.\t\n",
    "Thus we can find the expected time for any bot-alien-crew cell combination by looking at the value of the 6D array at the given bot, alien  and crew cell.\n"
   ]
  },
  {
   "cell_type": "code",
   "execution_count": 10,
   "metadata": {},
   "outputs": [
    {
     "name": "stderr",
     "output_type": "stream",
     "text": [
      "/var/folders/vy/n381153x4ml802r36d69217w0000gn/T/ipykernel_4833/223742385.py:26: DeprecationWarning: Conversion of an array with ndim > 0 to a scalar is deprecated, and will error in future. Ensure you extract a single element from your array before performing this operation. (Deprecated NumPy 1.25.)\n",
      "  crew_idx_0, crew_idx_1 = int(crew_idx[0]), int(crew_idx[1])\n",
      "/var/folders/vy/n381153x4ml802r36d69217w0000gn/T/ipykernel_4833/223742385.py:34: DeprecationWarning: Conversion of an array with ndim > 0 to a scalar is deprecated, and will error in future. Ensure you extract a single element from your array before performing this operation. (Deprecated NumPy 1.25.)\n",
      "  bot_idx_0, bot_idx_1 = int(bot_idx[0]), int(bot_idx[1])\n"
     ]
    }
   ],
   "source": [
    "env = Ship_Environment(size=11, has_alien=False)\n",
    "env.import_ship('our_ship.npy')\n",
    "ship = env.ship"
   ]
  },
  {
   "cell_type": "code",
   "execution_count": 11,
   "metadata": {},
   "outputs": [],
   "source": [
    "def get_cardinals_avoid_bot_alien(size, crew_point, ship, bot_point, alien_point):\n",
    "    cardinals = []\n",
    "    for direction in [(0,-1), (0, 1), (1, 0), (-1, 0)]:\n",
    "        alien_x, alien_y = direction[0] + alien_point[0], direction[1] + alien_point[1]\n",
    "        if (alien_x, alien_y) != bot_point and (0 <= alien_x < size and 0 <= alien_y < size) and ship[alien_x][alien_y] != 1 :\n",
    "            # checking bot's movement\n",
    "            for direction in [(0,1), (0,-1), (1,0), (-1,0)]:\n",
    "                x, y = crew_point[0] + direction[0], crew_point[1] + direction[1]\n",
    "                if 0 <= x < size and 0 <= y < size and ship[x][y] != 1 and (x,y) != bot_point and (x,y) != alien_point:\n",
    "                    cardinals.append((x,y))\n",
    "    return cardinals\n",
    "\n",
    "def get_possible_bot_moves_with_alien(size, crew_point, ship, bot_point, alien_point):\n",
    "    moves = []\n",
    "    for direction in [(0,1), (0,-1), (1,0), (-1,0), (0,0), (1,1), (1,-1), (-1,1), (-1,-1)]:\n",
    "        x, y = bot_point[0] + direction[0], bot_point[1] + direction[1]\n",
    "        if 0 <= x < size and 0 <= y < size and ship[x][y] != 1 and (x,y) != crew_point and (x,y) != alien_point:\n",
    "            moves.append((x,y))\n",
    "    return moves\n",
    "\n",
    "expected_values_6d = np.zeros([11, 11, 11, 11, 11, 11])\n",
    "temp = np.zeros([11, 11, 11, 11, 11, 11])\n",
    "convergence = False\n",
    "\n",
    "while not convergence:\n",
    "    for bot_x in range(expected_values_6d.shape[0]):\n",
    "        for bot_y in range(expected_values_6d.shape[0]):\n",
    "            # If the bot is not in a blocked cell\n",
    "            if ship[bot_x,bot_y] == 1:\n",
    "                for alien_x in range(expected_values_6d.shape[0]):\n",
    "                    for alien_y in range(expected_values_6d.shape[0]):\n",
    "                        for crew_x in range(expected_values_6d.shape[2]):\n",
    "                            for crew_y in range(expected_values_6d.shape[3]):\n",
    "                                expected_values_6d[bot_x,bot_y,alien_x,alien_y,crew_x,crew_y] = -1\n",
    "                                temp[bot_x,bot_y,alien_x,alien_y,crew_x,crew_y] = -1\n",
    "                continue\n",
    "            \n",
    "            for alien_x in range(expected_values_6d.shape[0]):\n",
    "                for alien_y in range(expected_values_6d.shape[0]):\n",
    "                # if alien in blocked cell\n",
    "                    if ship[alien_x,alien_y] == 1:\n",
    "                        for crew_x in range(expected_values_6d.shape[0]):\n",
    "                            for crew_y in range(expected_values_6d.shape[0]):\n",
    "                                expected_values_6d[bot_x,bot_y,alien_x,alien_y,crew_x,crew_y] = -1\n",
    "                                temp[bot_x,bot_y,alien_x,alien_y,crew_x,crew_y] = -1\n",
    "                        continue\n",
    "                    \n",
    "                    # Tbot(tp pad) = 0 regardless of where the bot is\n",
    "                    expected_values_6d[bot_x,bot_y,alien_x,alien_y,0,0] = 0\n",
    "                    for crew_x in range(expected_values_6d.shape[0]):\n",
    "                        for crew_y in range(expected_values_6d.shape[0]):\n",
    "                            if (crew_x,crew_y) == (5,5):\n",
    "                                continue\n",
    "                            if ship[crew_x,crew_y] == 1:\n",
    "                                expected_values_6d[bot_x,bot_y,alien_x,alien_y,crew_x,crew_y] = -1\n",
    "                                temp[bot_x,bot_y,alien_x,alien_y,crew_x,crew_y] = -1\n",
    "                                continue\n",
    "                            possible_moves = get_possible_bot_moves_with_alien(expected_values_6d.shape[0], (crew_x,crew_y), ship, (bot_x,bot_y), (alien_x,alien_y))\n",
    "                            if len(possible_moves) <= 0:\n",
    "                                expected_values_6d[bot_x,bot_y,alien_x,alien_y,crew_x,crew_y] = -1\n",
    "                                temp[bot_x,bot_y,alien_x,alien_y,crew_x,crew_y] = -1\n",
    "                                continue\n",
    "                            current_min_avg = 1000\n",
    "                            for possible_move in possible_moves:\n",
    "                                possible_move_x, possible_move_y = possible_move\n",
    "                                neighbors = get_cardinals_avoid_bot_alien(expected_values_6d.shape[0], (crew_x,crew_y), ship, (possible_move_x,possible_move_y), (alien_x, alien_y))\n",
    "                                if len(neighbors) <= 0:\n",
    "                                    expected_values_6d[bot_x,bot_y,alien_x,alien_y,crew_x,crew_y] = -1\n",
    "                                    temp[bot_x,bot_y,alien_x,alien_y,crew_x,crew_y] = -1\n",
    "                                    continue\n",
    "                                temp_sum = 0\n",
    "                                for neighbor in neighbors:\n",
    "                                    neighbor_x, neighbor_y = neighbor\n",
    "                                    temp_sum += expected_values_6d[possible_move_x, possible_move_y, alien_x, alien_y, neighbor_x, neighbor_y]\n",
    "                                if temp_sum != 0: current_min_avg = min(current_min_avg, 1 / len(neighbors) * temp_sum)\n",
    "                                \n",
    "                            temp[bot_x,bot_y,crew_x,crew_y] = 1 + current_min_avg\n",
    "    if np.all(np.abs(expected_values_6d-temp) <= .001):\n",
    "        convergence = True\n",
    "    expected_values_6d = temp.copy()\n",
    "    \n",
    "\n",
    "# np.savetxt('test.txt', expected_values, fmt='%.2f')\n",
    "print(\"Finished! Total iterations:\")\n",
    "print(expected_values_6d)\n"
   ]
  },
  {
   "cell_type": "code",
   "execution_count": null,
   "metadata": {},
   "outputs": [],
   "source": [
    "# Directions\n",
    "    # \n",
    "    # 1  2  3\n",
    "    # 4  5  6\n",
    "    # 7  8  9\n",
    "    # \n",
    "def get_valid_actions_bot(bot_cell, crew_cell, alien_cell, env):\n",
    "    directions = {\n",
    "        1: (bot_cell[0] - 1, bot_cell[1] - 1),  # Top-left\n",
    "        2: (bot_cell[0] - 1, bot_cell[1]),      # Top\n",
    "        3: (bot_cell[0] - 1, bot_cell[1] + 1),  # Top-right\n",
    "        4: (bot_cell[0], bot_cell[1] - 1),      # Left\n",
    "        5: bot_cell,                            # Center (stay)\n",
    "        6: (bot_cell[0], bot_cell[1] + 1),      # Right\n",
    "        7: (bot_cell[0] + 1, bot_cell[1] - 1),  # Bottom-left\n",
    "        8: (bot_cell[0] + 1, bot_cell[1]),      # Bottom\n",
    "        9: (bot_cell[0] + 1, bot_cell[1] + 1)   # Bottom-right\n",
    "    }\n",
    "    invalid_actions = []\n",
    "    for direction, temp in directions.items():\n",
    "        if not (0 <= temp[0] < env.size and 0 <= temp[1] < env.size and env.ship[temp] != 1 and temp != crew_cell and temp != alien_cell):\n",
    "            invalid_actions.append(direction)\n",
    "    \n",
    "    for ia in invalid_actions:\n",
    "        del directions[ia]\n",
    "\n",
    "    return directions\n",
    "\n",
    "def get_expected_value_alien_crew(env, ev, bot_cell, crew_cell, alien_cell):\n",
    "    evs = []\n",
    "\n",
    "# checking alien's movement \n",
    "    for direction in [(0,-1), (0, 1), (1, 0), (-1, 0)]:\n",
    "        alien_x, alien_y = direction[0] + alien_cell[0], direction[1] + alien_cell[1]\n",
    "        if (alien_x, alien_y) != bot_cell and (0 <= alien_x < env.size and 0 <= alien_y < env.size) and ev[bot_cell][(alien_x, alien_y)] >= 0:\n",
    "            # checking bot's movement\n",
    "            for direction in [(0,-1), (0, 1), (1, 0), (-1, 0)]:\n",
    "                crew_x, crew_y = direction[0] + crew_cell[0], direction[1] + crew_cell[1]\n",
    "                if (crew_x, crew_y) != bot_cell and (0 <= crew_x < env.size and 0 <= crew_y < env.size) and ev[bot_cell][(crew_x, crew_y)] >= 0:\n",
    "                    evs.append(ev[bot_cell][(alien_x, alien_y)][(crew_x, crew_y)])\n",
    "    \n",
    "    if len(evs) <= 0:\n",
    "        return np.inf\n",
    "    \n",
    "    return np.mean(evs)\n",
    "\n",
    "optimal_action = {}\n",
    "\n",
    "coordinates = [(x,y) for x in range(env.size) for y in range(env.size)]\n",
    "for bot_cell in coordinates:\n",
    "    for alien_cell in coordinates:\n",
    "        if bot_cell == alien_cell:\n",
    "            continue\n",
    "        for crew_cell in coordinates:\n",
    "            if bot_cell == crew_cell or crew_cell == alien_cell:\n",
    "                continue\n",
    "            \n",
    "            if crew_cell == (5,5):\n",
    "                continue\n",
    "\n",
    "            directions = get_valid_actions_bot(bot_cell, crew_cell, alien_cell, env)\n",
    "\n",
    "            # default is stay still, 5\n",
    "            min_ev = get_expected_value_alien_crew(env, expected_values_6d, bot_cell, crew_cell, alien_cell)\n",
    "            min_act = 5\n",
    "\n",
    "            for direction, new_bot_cell in directions.items():\n",
    "                test_ev = get_expected_value_alien_crew(env, expected_values_6d, bot_cell, crew_cell, alien_cell)\n",
    "\n",
    "                if test_ev < min_ev:\n",
    "                    min_ev = test_ev\n",
    "                    min_act = direction\n",
    "            optimal_action[bot_cell, alien_cell, crew_cell] = min_act"
   ]
  },
  {
   "cell_type": "code",
   "execution_count": null,
   "metadata": {},
   "outputs": [],
   "source": [
    "class SimpleNN_Bonus(nn.Module):\n",
    "    def __init__(self):\n",
    "        super(SimpleNN_Bonus, self).__init__()\n",
    "        self.fc1 = nn.Linear(6, 64)  # Bot_pos, Alien_pos, Crew_pos\n",
    "        self.fc2 = nn.Linear(64, 32)\n",
    "        self.fc3 = nn.Linear(32, 9)\n",
    "\n",
    "    def forward(self, x):\n",
    "        x = x.view(x.size(0), -1)\n",
    "        x = torch.sigmoid(self.fc1(x))\n",
    "        x = torch.sigmoid(self.fc2(x))\n",
    "        x = self.fc3(x)\n",
    "        return x\n",
    "    \n",
    "    def act(self, x):\n",
    "        output = self(x.unsqueeze(0))\n",
    "        softmax_output = F.softmax(output[0], dim=0)\n",
    "        # probabilities = softmax_output.tolist()\n",
    "        # action = random.choices(range(len(probabilities)), weights=probabilities, k=1)[0]\n",
    "        action = torch.argmax(softmax_output, dim=0)\n",
    "        return action + 1"
   ]
  },
  {
   "cell_type": "code",
   "execution_count": null,
   "metadata": {},
   "outputs": [],
   "source": [
    "def one_hot_encode_bonus(digits):\n",
    "    digit_to_index = {digit: idx for idx, digit in enumerate(range(1, 10))}\n",
    "    \n",
    "    num_classes = len(digit_to_index)\n",
    "    \n",
    "    encoded_vectors = np.zeros((len(digits), num_classes), dtype=int)\n",
    "    \n",
    "    for i, digit in enumerate(digits):\n",
    "        index = digit_to_index[digit]\n",
    "        encoded_vectors[i, index] = 1\n",
    "    \n",
    "    return encoded_vectors\n",
    "\n",
    "train_x = torch.tensor(list(optimal_action.keys())).float().to(device)\n",
    "train_y = torch.tensor(one_hot_encode_bonus(list(optimal_action.values()))).float().to(device)"
   ]
  },
  {
   "cell_type": "code",
   "execution_count": null,
   "metadata": {},
   "outputs": [],
   "source": [
    "losses = []\n",
    "\n",
    "model = SimpleNN().to(device)\n",
    "\n",
    "criterion = nn.CrossEntropyLoss()\n",
    "optimizer = optim.Adam(model.parameters(), lr=0.01)\n",
    "\n",
    "model.train()\n",
    "num_epochs = 10000\n",
    "for epoch in range(num_epochs):\n",
    "\n",
    "    output = model(train_x)\n",
    "\n",
    "    loss = criterion(output, train_y)\n",
    "\n",
    "    optimizer.zero_grad()\n",
    "    loss.backward()\n",
    "    optimizer.step()\n",
    "\n",
    "    losses.append(loss.item())\n",
    "\n",
    "    if epoch % 1000 == 0:\n",
    "        print(f'Epoch [{epoch}/{num_epochs}], Loss: {loss.item()}')"
   ]
  },
  {
   "cell_type": "code",
   "execution_count": null,
   "metadata": {},
   "outputs": [],
   "source": [
    "# plot the loss over epochs\n",
    "%matplotlib inline\n",
    "plt.plot(range(num_epochs), losses, label='Training Loss')\n",
    "plt.xlabel('Epoch')\n",
    "plt.ylabel('Loss')\n",
    "plt.title('Training Loss over Epochs')\n",
    "plt.legend()\n",
    "plt.show()"
   ]
  },
  {
   "cell_type": "code",
   "execution_count": null,
   "metadata": {},
   "outputs": [],
   "source": [
    "model.eval()\n",
    "\n",
    "correct = 0\n",
    "outputs = model(train_x)\n",
    "for output, y_vector in zip(outputs, train_y):\n",
    "    actual = torch.argmax(y_vector).item()\n",
    "    pred = torch.argmax(output).item()\n",
    "\n",
    "    if pred == actual:\n",
    "        correct += 1\n",
    "\n",
    "print(f'Accuracy on training data: {correct/outputs.size(0) * 100}')"
   ]
  },
  {
   "cell_type": "code",
   "execution_count": null,
   "metadata": {},
   "outputs": [],
   "source": [
    "env = Ship_Environment(size=11, has_alien=True)\n",
    "\n",
    "# debugging / visualization purposes\n",
    "# states = []\n",
    "\n",
    "num_moves = []\n",
    "failures = 0\n",
    "for _ in tqdm(range(100)):\n",
    "    done = False\n",
    "    for moves in itertools.count():\n",
    "        if moves > 1000:\n",
    "            failures += 1\n",
    "            break\n",
    "        # if finish, return number of moves\n",
    "        if done:\n",
    "            num_moves.append(moves)\n",
    "            env.reset()\n",
    "            break\n",
    "        \n",
    "        # get the bot action from the network\n",
    "        x = torch.tensor([env.bot, env.crew]).float().to(device)\n",
    "        bot_action = model.act(x)\n",
    "\n",
    "        # move the bot\n",
    "        state, done, reward = env.step(bot_action)\n",
    "\n",
    "        # debugging / visualization purposes\n",
    "        # states.append(state/5)\n",
    "\n",
    "print('---No randomization of bot/crew---')\n",
    "print(f'Average Number of Moves on until Success: {sum(num_moves)/len(num_moves)}')\n",
    "print(f'Failures: {failures}')"
   ]
  },
  {
   "cell_type": "code",
   "execution_count": null,
   "metadata": {},
   "outputs": [],
   "source": [
    "class LessSimpleNN(nn.Module):\n",
    "    def __init__(self):\n",
    "        super(LessSimpleNN, self).__init__()\n",
    "        self.fc1 = nn.Linear(34, 64)\n",
    "        self.fc2 = nn.Linear(64, 32)\n",
    "        self.fc3 = nn.Linear(32, 9)\n",
    "\n",
    "        nn.init.kaiming_uniform_(self.fc1.weight, mode='fan_in', nonlinearity='sigmoid')\n",
    "        nn.init.kaiming_uniform_(self.fc2.weight, mode='fan_in', nonlinearity='sigmoid')\n",
    "        nn.init.kaiming_uniform_(self.fc3.weight, mode='fan_in', nonlinearity='sigmoid')\n",
    "\n",
    "    def forward(self, x):\n",
    "        x = x.view(x.size(0), -1)\n",
    "        x = torch.sigmoid(self.fc1(x))\n",
    "        x = torch.sigmoid(self.fc2(x))\n",
    "        x = torch.sigmoid(self.fc3(x))\n",
    "        return x\n",
    "    \n",
    "    def act(self, x):\n",
    "        output = self(x.unsqueeze(0))\n",
    "        softmax_output = F.softmax(output[0], dim=0)\n",
    "        # probabilities = softmax_output.tolist()\n",
    "        # action = random.choices(range(len(probabilities)), weights=probabilities, k=1)[0]\n",
    "        action = torch.argmax(softmax_output, dim=0)\n",
    "        return action + 1"
   ]
  },
  {
   "cell_type": "code",
   "execution_count": null,
   "metadata": {},
   "outputs": [],
   "source": [
    "def get_cardinals(size, crew_point, ev , bot_point, alien_point):\n",
    "    cardinals = []\n",
    "    for direction in [(0,-1), (0, 1), (1, 0), (-1, 0)]:\n",
    "        alien_x, alien_y = direction[0] + alien_point[0], direction[1] + alien_point[1]\n",
    "        if (alien_x, alien_y) != bot_point and (0 <= alien_x < size and 0 <= alien_y < size) and ship[alien_x][alien_y] != 1 :\n",
    "            # checking bot's movement\n",
    "            for direction in [(0,1), (0,-1), (1,0), (-1,0)]:\n",
    "                x, y = crew_point[0] + direction[0], crew_point[1] + direction[1]\n",
    "                if 0 <= x < size and 0 <= y < size and ship[x][y] != 1 and (x,y) != bot_point and (x,y) != alien_point:\n",
    "                    cardinals.append((x,y))\n",
    "    return cardinals\n",
    "\n",
    "# Directions\n",
    "    # \n",
    "    # 1  2  3\n",
    "    # 4  5  6\n",
    "    # 7  8  9\n",
    "    # \n",
    "def get_valid_actions(bot_cell, crew_cell, alien_cell, env):\n",
    "    directions = {\n",
    "        1: (bot_cell[0] - 1, bot_cell[1] - 1),  # Top-left\n",
    "        2: (bot_cell[0] - 1, bot_cell[1]),      # Top\n",
    "        3: (bot_cell[0] - 1, bot_cell[1] + 1),  # Top-right\n",
    "        4: (bot_cell[0], bot_cell[1] - 1),      # Left\n",
    "        5: bot_cell,                            # Center (stay)\n",
    "        6: (bot_cell[0], bot_cell[1] + 1),      # Right\n",
    "        7: (bot_cell[0] + 1, bot_cell[1] - 1),  # Bottom-left\n",
    "        8: (bot_cell[0] + 1, bot_cell[1]),      # Bottom\n",
    "        9: (bot_cell[0] + 1, bot_cell[1] + 1)   # Bottom-right\n",
    "    }\n",
    "    invalid_actions = []\n",
    "    for direction, temp in directions.items():\n",
    "        if not (0 <= temp[0] < env.size and 0 <= temp[1] < env.size and env.ship[temp] != 1 and temp != crew_cell and temp != alien_cell):\n",
    "            invalid_actions.append(direction)\n",
    "    \n",
    "    for ia in invalid_actions:\n",
    "        del directions[ia]\n",
    "\n",
    "    return directions\n",
    "\n",
    "optimal_action_dataset = []\n",
    "\n",
    "# get every combination of coordinates\n",
    "coordinates = [(i, j) for i in range(env.size) for j in range(env.size)]\n",
    "\n",
    "for _ in range(50):\n",
    "    env = Ship_Environment(size=11, has_alien=False)\n",
    "    ship = env.ship\n",
    "    indices = np.where(ship == 1)\n",
    "    wall_coordinates = list(zip(indices[0], indices[1]))\n",
    "\n",
    "    # key: (bot_cell, crew_cell) \n",
    "    # value: expected time\n",
    "    tbot = {}\n",
    "\n",
    "    for bot_cell in coordinates:\n",
    "        for alien_cell in coordinates:\n",
    "            if bot_cell == alien_cell:\n",
    "                continue\n",
    "            for crew_cell in coordinates:\n",
    "                if bot_cell == crew_cell or crew_cell == alien_cell:\n",
    "                    continue\n",
    "                \n",
    "                if crew_cell == (5,5):\n",
    "                    tbot[(bot_cell, crew_cell)] = 0\n",
    "                    continue\n",
    "\n",
    "                # cannot be in a wall\n",
    "                if ship[bot_cell] == -1 or ship[crew_cell] == -1 or ship[alien_cell] == -1:\n",
    "                    continue\n",
    "\n",
    "                # average of accessible crew cells\n",
    "                temp_sum = 0\n",
    "                accessible_cells = get_cardinals(env.size, crew_cell, expected_values, bot_cell, alien_cell)\n",
    "                if accessible_cells:\n",
    "                    for ac in accessible_cells:\n",
    "                        temp_sum += expected_values[ac]\n",
    "                    temp_sum /= len(accessible_cells)\n",
    "                else:\n",
    "                    temp_sum = np.inf\n",
    "\n",
    "                # manhattan distance + average of accessible crew cells\n",
    "                tbot[(bot_cell, alien_cell, crew_cell)] = manhattan_distance(bot_cell, crew_cell) + temp_sum\n",
    "\n",
    "    for pair, curr_ev in tbot.items():\n",
    "        bot_cell, crew_cell = pair\n",
    "        directions = get_valid_actions(bot_cell, crew_cell, alien_cell, env)\n",
    "        \n",
    "        # default is stay still, 5\n",
    "        min_ev = curr_ev\n",
    "        min_act = 5\n",
    "        for direction, new_bot_cell in directions.items():\n",
    "            test_ev = tbot[(new_bot_cell, alien_cell, crew_cell)]\n",
    "            if test_ev < min_ev:\n",
    "                min_ev = test_ev\n",
    "                min_act = direction\n",
    "\n",
    "        temp = wall_coordinates.copy()\n",
    "        temp.append(bot_cell)\n",
    "        temp.append(alien_cell)\n",
    "        temp.append(crew_cell)\n",
    "        optimal_action_dataset.append((temp, min_act))\n",
    "\n",
    "print(len(optimal_action_dataset))"
   ]
  },
  {
   "cell_type": "code",
   "execution_count": null,
   "metadata": {},
   "outputs": [],
   "source": [
    "# shuffle the dataset\n",
    "random.shuffle(optimal_action_dataset)\n",
    "\n",
    "x_values = np.array([item[0] for item in optimal_action_dataset])\n",
    "y_values = np.array([item[1] for item in optimal_action_dataset])\n",
    "num_samples = len(x_values)\n",
    "num_features = x_values.shape[1] * x_values.shape[2]\n",
    "train_x = x_values.reshape(num_samples, num_features)\n",
    "\n",
    "# 80/20 split\n",
    "split_index = int(0.8 * num_samples)\n",
    "\n",
    "# training and testing sets\n",
    "train_x, test_x = train_x[:split_index], train_x[split_index:]\n",
    "train_y, test_y = y_values[:split_index], y_values[split_index:]\n",
    "\n",
    "train_y = one_hot_encode(train_y)\n",
    "test_y = one_hot_encode(test_y)\n",
    "\n",
    "print(\"Shapes:\")\n",
    "print(\"train_x:\", train_x.shape)\n",
    "print(\"train_y:\", train_y.shape)\n",
    "print(\"test_x:\", test_x.shape)\n",
    "print(\"test_y:\", test_y.shape)"
   ]
  },
  {
   "cell_type": "code",
   "execution_count": null,
   "metadata": {},
   "outputs": [],
   "source": [
    "model = LessSimpleNN().to(device)\n",
    "\n",
    "criterion = nn.CrossEntropyLoss()\n",
    "optimizer = optim.Adam(model.parameters(), lr=0.001)\n",
    "\n",
    "train_x_tensor = torch.tensor(train_x, dtype=torch.float32).to(device)\n",
    "train_y_tensor = torch.tensor(train_y.argmax(axis=1), dtype=torch.long).to(device)\n",
    "\n",
    "train_dataset = TensorDataset(train_x_tensor, train_y_tensor)\n",
    "train_loader = DataLoader(train_dataset, batch_size=64, shuffle=True, num_workers=4)\n",
    "\n",
    "num_epochs = 10\n",
    "prev_loss = np.inf\n",
    "for epoch in range(num_epochs):\n",
    "    model.train()\n",
    "    running_loss = 0.0\n",
    "    for inputs, labels in train_loader:\n",
    "        optimizer.zero_grad()\n",
    "        outputs = model(inputs)\n",
    "        loss = criterion(outputs, labels)\n",
    "        loss.backward()\n",
    "        optimizer.step()\n",
    "        running_loss += loss.item()\n",
    "    if running_loss/len(train_loader) >= prev_loss:\n",
    "        break\n",
    "    prev_loss = running_loss/len(train_loader)\n",
    "    print(f\"Epoch {epoch + 1}, Loss: {running_loss / len(train_loader)}\")"
   ]
  },
  {
   "cell_type": "code",
   "execution_count": null,
   "metadata": {},
   "outputs": [],
   "source": [
    "# Evaluate on test data\n",
    "test_x_tensor = torch.tensor(test_x, dtype=torch.float32).to(device)\n",
    "test_y_tensor = torch.tensor(test_y.argmax(axis=1), dtype=torch.long).to(device)\n",
    "test_dataset = TensorDataset(test_x_tensor, test_y_tensor)\n",
    "test_loader = DataLoader(test_dataset, batch_size=64, num_workers=4)\n",
    "\n",
    "model.eval()\n",
    "correct = 0\n",
    "total = 0\n",
    "with torch.no_grad():\n",
    "    for inputs, labels in tqdm(test_loader):\n",
    "        outputs = model(inputs)\n",
    "        _, predicted = torch.max(outputs, 1)\n",
    "        total += labels.size(0)\n",
    "        correct += (predicted == labels).sum().item()\n",
    "\n",
    "accuracy = correct / total\n",
    "print(f\"Test Accuracy: {accuracy * 100:.2f}%\")"
   ]
  }
 ],
 "metadata": {
  "kernelspec": {
   "display_name": "Python 3",
   "language": "python",
   "name": "python3"
  },
  "language_info": {
   "codemirror_mode": {
    "name": "ipython",
    "version": 3
   },
   "file_extension": ".py",
   "mimetype": "text/x-python",
   "name": "python",
   "nbconvert_exporter": "python",
   "pygments_lexer": "ipython3",
   "version": "3.11.8"
  }
 },
 "nbformat": 4,
 "nbformat_minor": 2
}
